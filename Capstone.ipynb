{
 "cells": [
  {
   "cell_type": "markdown",
   "metadata": {
    "id": "DG0brT337oQ6"
   },
   "source": [
    "# To-Do List\n",
    "Database\n",
    "\n",
    "Image Quality - How to check\n",
    "\n",
    "GT quality - Mean pixels strength, pixel mean value\n",
    "\n",
    "Images w/ metadata\n",
    "Metadata - Key Frames - Categories\n",
    "\n",
    "Import batch of frames - Curate Frames - Check Ground Truth - Generate Metadata - Output\n",
    "WandB\n",
    "Flask Front End\n",
    "Image Output\n",
    "\n",
    "scalability\n",
    "\n",
    "wandb - monitor quality"
   ]
  },
  {
   "cell_type": "markdown",
   "metadata": {
    "id": "j-wh0-R8nIvS"
   },
   "source": [
    "# Import FastAPI, FFmpeg, uvicorn, and JAAD"
   ]
  },
  {
   "cell_type": "code",
   "execution_count": 1,
   "metadata": {
    "id": "S_kef3gWlciz"
   },
   "outputs": [],
   "source": [
    "%%capture\n",
    "!pip install fastapi ffmpeg uvicorn JAAD python-multipart tensorflow-gpu scikit-image imutils\n",
    "\n",
    "from fastapi import FastAPI, File, UploadFile\n",
    "import nest_asyncio, uvicorn, os\n",
    "\n",
    "from io import BytesIO"
   ]
  },
  {
   "cell_type": "markdown",
   "metadata": {
    "id": "ZVbLxspHFhv0"
   },
   "source": [
    "# Import and Set Up WandB"
   ]
  },
  {
   "cell_type": "markdown",
   "metadata": {
    "id": "cY78MLJQFuO8"
   },
   "source": [
    "## Import WandB Library"
   ]
  },
  {
   "cell_type": "code",
   "execution_count": 2,
   "metadata": {
    "id": "kLHbXSR6FlGo"
   },
   "outputs": [],
   "source": [
    "%%capture\n",
    "!pip install wandb\n",
    "import wandb"
   ]
  },
  {
   "cell_type": "markdown",
   "metadata": {
    "id": "CVWMTSiqFwgP"
   },
   "source": [
    "## Log In to WandB"
   ]
  },
  {
   "cell_type": "code",
   "execution_count": 3,
   "metadata": {
    "colab": {
     "base_uri": "https://localhost:8080/",
     "height": 102
    },
    "id": "qpEwDK6CFzDF",
    "outputId": "44ca9a46-61c4-41d0-9f82-eff945e8b7e2"
   },
   "outputs": [
    {
     "name": "stderr",
     "output_type": "stream",
     "text": [
      "\u001b[34m\u001b[1mwandb\u001b[0m: Currently logged in as: \u001b[33mjamesysato\u001b[0m (use `wandb login --relogin` to force relogin)\n"
     ]
    },
    {
     "data": {
      "text/plain": [
       "True"
      ]
     },
     "execution_count": 3,
     "metadata": {},
     "output_type": "execute_result"
    }
   ],
   "source": [
    "wandb.login()"
   ]
  },
  {
   "cell_type": "markdown",
   "metadata": {
    "id": "gzit_qslFlvV"
   },
   "source": [
    "# Set up ResNet50 Model"
   ]
  },
  {
   "cell_type": "code",
   "execution_count": 4,
   "metadata": {
    "colab": {
     "base_uri": "https://localhost:8080/"
    },
    "id": "WRloZF61mh7v",
    "outputId": "86fc5cfb-3f51-49a7-ddc2-4b71fa7774d8"
   },
   "outputs": [
    {
     "name": "stderr",
     "output_type": "stream",
     "text": [
      "2021-09-11 19:54:00.756827: I tensorflow/stream_executor/cuda/cuda_gpu_executor.cc:937] successful NUMA node read from SysFS had negative value (-1), but there must be at least one NUMA node, so returning NUMA node zero\n",
      "2021-09-11 19:54:00.761931: W tensorflow/stream_executor/platform/default/dso_loader.cc:64] Could not load dynamic library 'libcusolver.so.11'; dlerror: libcusolver.so.11: cannot open shared object file: No such file or directory; LD_LIBRARY_PATH: /usr/local/cuda/lib64:/usr/local/nccl2/lib:/usr/local/cuda/extras/CUPTI/lib64\n",
      "2021-09-11 19:54:00.762655: W tensorflow/core/common_runtime/gpu/gpu_device.cc:1835] Cannot dlopen some GPU libraries. Please make sure the missing libraries mentioned above are installed properly if you would like to use GPU. Follow the guide at https://www.tensorflow.org/install/gpu for how to download and setup the required libraries for your platform.\n",
      "Skipping registering GPU devices...\n",
      "2021-09-11 19:54:00.763444: I tensorflow/core/platform/cpu_feature_guard.cc:142] This TensorFlow binary is optimized with oneAPI Deep Neural Network Library (oneDNN) to use the following CPU instructions in performance-critical operations:  AVX2 FMA\n",
      "To enable them in other operations, rebuild TensorFlow with the appropriate compiler flags.\n"
     ]
    }
   ],
   "source": [
    "from tensorflow.keras.applications.resnet50 import ResNet50\n",
    "from tensorflow.keras.preprocessing import image\n",
    "from tensorflow.keras.applications.resnet50 import preprocess_input, decode_predictions\n",
    "import numpy as np\n",
    "\n",
    "model = ResNet50(weights='imagenet')\n",
    "\n",
    "# img_path = 'elephant.jpg'\n",
    "# img = image.load_img(img_path, target_size=(224, 224))\n",
    "# x = image.img_to_array(img)\n",
    "# x = np.expand_dims(x, axis=0)\n",
    "# x = preprocess_input(x)\n",
    "\n",
    "# preds = model.predict(x)\n",
    "# decode the results into a list of tuples (class, description, probability)\n",
    "# (one such list for each sample in the batch)\n",
    "# print('Predicted:', decode_predictions(preds, top=3)[0])\n",
    "# Predicted: [(u'n02504013', u'Indian_elephant', 0.82658225), (u'n01871265', u'tusker', 0.1122357), (u'n02504458', u'African_elephant', 0.061040461)]\n"
   ]
  },
  {
   "cell_type": "markdown",
   "metadata": {
    "id": "yFaiDWdISXGf"
   },
   "source": [
    "# Set Up Google Cloud Parameters\n"
   ]
  },
  {
   "cell_type": "markdown",
   "metadata": {
    "id": "2lLW9XWyVTqS"
   },
   "source": [
    "## Import Google Cloud Library"
   ]
  },
  {
   "cell_type": "code",
   "execution_count": 5,
   "metadata": {
    "id": "DM-j8IKgVWDe"
   },
   "outputs": [],
   "source": [
    "from google.cloud import storage"
   ]
  },
  {
   "cell_type": "markdown",
   "metadata": {
    "id": "QMbfPM4GSgYt"
   },
   "source": [
    "## Set Up Google Cloud Project and Model Location"
   ]
  },
  {
   "cell_type": "code",
   "execution_count": 6,
   "metadata": {
    "id": "2bjDmnc5SbHq"
   },
   "outputs": [],
   "source": [
    "project = 'mlops-content1' # Cloud Project Name\n",
    "location = 'james-mlops-capstone' # Model Storage Bucket\n",
    "model_dir = 'model'"
   ]
  },
  {
   "cell_type": "markdown",
   "metadata": {
    "id": "h4nk8gw3VHwz"
   },
   "source": [
    "## Create Storage Bucket"
   ]
  },
  {
   "cell_type": "code",
   "execution_count": 7,
   "metadata": {
    "id": "R5BDNjqAVKun"
   },
   "outputs": [],
   "source": [
    "storage_client = storage.Client.from_service_account_json('james-capstone-key.json')\n",
    "\n",
    "bucket = storage_client.bucket(location)\n",
    "\n",
    "# working_bucket = storage_client.bucket(location)"
   ]
  },
  {
   "cell_type": "markdown",
   "metadata": {
    "id": "ONo4xnfLS0wX"
   },
   "source": [
    "## Double Check Cloud Bucket"
   ]
  },
  {
   "cell_type": "code",
   "execution_count": 8,
   "metadata": {
    "colab": {
     "base_uri": "https://localhost:8080/"
    },
    "id": "m4yUDLqHS0VH",
    "outputId": "40c1f26c-4235-441e-d2d0-5a7db2c34e87"
   },
   "outputs": [],
   "source": [
    "%%capture\n",
    "blobs = storage_client.list_blobs(location)\n",
    "for blob in blobs:\n",
    "    print(blob.name)"
   ]
  },
  {
   "cell_type": "markdown",
   "metadata": {
    "id": "iZCVJpk3H3Ij"
   },
   "source": [
    "# WandB Functions"
   ]
  },
  {
   "cell_type": "code",
   "execution_count": 9,
   "metadata": {
    "id": "6JDy6oOTH5v8"
   },
   "outputs": [],
   "source": [
    "def init_wandb(project_name):\n",
    "   global wandb_project\n",
    "   wandb_project = str(project_name)\n",
    "   wandb.init(project=wandb_project, sync_tensorboard=True)\n",
    "   return True"
   ]
  },
  {
   "cell_type": "markdown",
   "metadata": {
    "id": "KxBHkID8TdsN"
   },
   "source": [
    "# Set File Location"
   ]
  },
  {
   "cell_type": "code",
   "execution_count": 10,
   "metadata": {
    "id": "q44f0uKITftp"
   },
   "outputs": [],
   "source": [
    "def set_folder_location(in_location):\n",
    "    global location \n",
    "    location = str(in_location)\n",
    "    global bucket\n",
    "    bucket = storage_client.bucket(location)\n",
    "    return True"
   ]
  },
  {
   "cell_type": "markdown",
   "metadata": {
    "id": "Ia1dFbYETDJB"
   },
   "source": [
    "# Split Video to Frames and Upload"
   ]
  },
  {
   "cell_type": "markdown",
   "metadata": {},
   "source": [
    "## Download Video to Local Instance"
   ]
  },
  {
   "cell_type": "code",
   "execution_count": 11,
   "metadata": {},
   "outputs": [],
   "source": [
    "def download_video(video_name):\n",
    "    print(\"Downloading: \" + str(video_name))\n",
    "    blob = bucket.blob(video_name)\n",
    "    blob.download_to_filename(video_name)"
   ]
  },
  {
   "cell_type": "markdown",
   "metadata": {},
   "source": [
    "## Break down video to frames"
   ]
  },
  {
   "cell_type": "code",
   "execution_count": 12,
   "metadata": {},
   "outputs": [],
   "source": [
    "def split_video_frames(video_name):\n",
    "    print(\"Splitting: \" + str(video_name))\n",
    "    folder = video_name[:-4]\n",
    "    !mkdir $folder\n",
    "    !ffmpeg -i $video_name $folder/frame%04d.png -hide_banner -loglevel error"
   ]
  },
  {
   "cell_type": "markdown",
   "metadata": {},
   "source": [
    "## Upload Video Frames"
   ]
  },
  {
   "cell_type": "code",
   "execution_count": 13,
   "metadata": {},
   "outputs": [],
   "source": [
    "import glob\n",
    "\n",
    "def upload_frames_from_folder(folder_name):\n",
    "    folder_name = folder_name + \"/*.png\"\n",
    "    print(\"Uploading Frames\")\n",
    "    for filename in glob.iglob(folder_name):\n",
    "        print(filename, end=\"\\r\")\n",
    "        blob = bucket.blob(filename)\n",
    "        blob.upload_from_filename(filename)\n",
    "    print(\"Done Uploading               \", end=\"\\r\")"
   ]
  },
  {
   "cell_type": "markdown",
   "metadata": {},
   "source": [
    "## SSIM Compare Video Frames for Novel Frames"
   ]
  },
  {
   "cell_type": "markdown",
   "metadata": {},
   "source": [
    "## Import Libraries"
   ]
  },
  {
   "cell_type": "code",
   "execution_count": 14,
   "metadata": {},
   "outputs": [],
   "source": [
    "# import the necessary packages\n",
    "from skimage.metrics import structural_similarity as compare_ssim\n",
    "import cv2"
   ]
  },
  {
   "cell_type": "markdown",
   "metadata": {},
   "source": [
    "## Remove Blurry Images from Set"
   ]
  },
  {
   "cell_type": "markdown",
   "metadata": {},
   "source": [
    "### Calculate Blurriness using Laplacian"
   ]
  },
  {
   "cell_type": "code",
   "execution_count": 15,
   "metadata": {},
   "outputs": [],
   "source": [
    "def variance_of_laplacian(image):\n",
    "    # compute the Laplacian of the image and then return the focus\n",
    "    # measure, which is simply the variance of the Laplacian\n",
    "    return cv2.Laplacian(image, cv2.CV_64F).var()"
   ]
  },
  {
   "cell_type": "markdown",
   "metadata": {},
   "source": [
    "### Remove Blurry Images"
   ]
  },
  {
   "cell_type": "code",
   "execution_count": 16,
   "metadata": {},
   "outputs": [],
   "source": [
    "import numpy as np\n",
    "\n",
    "def remove_blurry_images(folder_name):\n",
    "    files=sorted(os.listdir(str(folder_name)))\n",
    "    files=files[1:]\n",
    "    \n",
    "    blurriness = np.zeros(len(files))\n",
    "    \n",
    "    print(\"Calculating Average Blurriness\")\n",
    "    for i in range(len(files)):\n",
    "        print(files[i] + \"             \", end=\"\\r\")\n",
    "        img=cv2.imread(folder_name+'/'+files[i])\n",
    "        img_gray=cv2.cvtColor(img, cv2.COLOR_BGR2GRAY)\n",
    "        blurriness[i]=variance_of_laplacian(img_gray)\n",
    "    \n",
    "    average_blur = np.mean(blurriness)\n",
    "    print(\"Average Blur (Laplacian Variance): \" + str(average_blur))\n",
    "    blur_cutoff = average_blur*1.05 #+ ((1-average_blur)*0.1)\n",
    "    print(\"Blur Cutoff (Laplacian Variance): \" + str(blur_cutoff))\n",
    "    \n",
    "    print(\"Removing Blurry Images\")\n",
    "    \n",
    "    for i in range(len(files)):\n",
    "        if blurriness[i] > blur_cutoff:\n",
    "            print(\"Deleting \" + files[i] + \" - Blurriness: \" + str(blurriness[i]))\n",
    "            os.remove(folder_name+'/'+files[i])\n",
    "    print(\"Done Checking Frames                  \")"
   ]
  },
  {
   "cell_type": "markdown",
   "metadata": {},
   "source": [
    "# Deduplicate Similar Frames"
   ]
  },
  {
   "cell_type": "markdown",
   "metadata": {},
   "source": [
    "## Calculate Similarity Between Images"
   ]
  },
  {
   "cell_type": "code",
   "execution_count": 17,
   "metadata": {},
   "outputs": [],
   "source": [
    "def compare_images(image1, image2):\n",
    "    image_gray1 = cv2.cvtColor(image1, cv2.COLOR_BGR2GRAY)\n",
    "    image_gray2 = cv2.cvtColor(image2, cv2.COLOR_BGR2GRAY)\n",
    "    diff, _ = compare_ssim(image_gray1, image_gray2, full=True)\n",
    "    return diff"
   ]
  },
  {
   "cell_type": "markdown",
   "metadata": {},
   "source": [
    "## Remove Duplicates"
   ]
  },
  {
   "cell_type": "code",
   "execution_count": 18,
   "metadata": {},
   "outputs": [],
   "source": [
    "def remove_duplicates(folder_name):\n",
    "    files=sorted(os.listdir(str(folder_name)))\n",
    "    files=files[1:]\n",
    "    print(\"Removing Duplicate and Highly Similar Frames\")\n",
    "    for i in range(len(files)-1):\n",
    "        #print(files[i])#, end=\"\\r\")\n",
    "        print(files[i] + \"             \", end=\"\\r\")\n",
    "        image1 = cv2.imread(folder_name+'/'+files[i])\n",
    "        image2 = cv2.imread(folder_name+'/'+files[i+1])\n",
    "        diff = compare_images(image1, image2)\n",
    "        if diff > 0.99:\n",
    "            print(\"Deleting \" + files[i] + \" - Similarity: \" + str(diff), end=\"\\r\")\n",
    "            os.remove(folder_name+'/'+files[i])\n",
    "    print(\"Done Checking Frames           \")"
   ]
  },
  {
   "cell_type": "markdown",
   "metadata": {},
   "source": [
    "# Full Video Analysis and Upload"
   ]
  },
  {
   "cell_type": "code",
   "execution_count": 19,
   "metadata": {},
   "outputs": [],
   "source": [
    "def clean_video(video_name):\n",
    "    video_name = str(video_name)\n",
    "    folder_name = str(video_name)[:-4]\n",
    "    download_video(video_name)\n",
    "    split_video_frames(video_name)\n",
    "    remove_blurry_images(folder_name)\n",
    "    remove_duplicates(folder_name)\n",
    "    upload_frames_from_folder(folder_name)"
   ]
  },
  {
   "cell_type": "markdown",
   "metadata": {},
   "source": [
    "# Analyze Entire Bucket"
   ]
  },
  {
   "cell_type": "code",
   "execution_count": 20,
   "metadata": {},
   "outputs": [],
   "source": [
    "def clean_entire_bucket():\n",
    "    files = !gsutil ls -r gs://$location\n",
    "    for file in files:\n",
    "        name = file.strip(\"gs://\"+location)\n",
    "        print(\"Cleaning Video: \" + str(name))\n",
    "        clean_video(name)"
   ]
  },
  {
   "cell_type": "markdown",
   "metadata": {},
   "source": [
    "# Test Script"
   ]
  },
  {
   "cell_type": "code",
   "execution_count": 21,
   "metadata": {},
   "outputs": [],
   "source": [
    "#clean_video(\"video_0002.mp4\")"
   ]
  },
  {
   "cell_type": "markdown",
   "metadata": {},
   "source": [
    "# Import Labels"
   ]
  },
  {
   "cell_type": "code",
   "execution_count": 22,
   "metadata": {},
   "outputs": [
    {
     "name": "stdout",
     "output_type": "stream",
     "text": [
      "Requirement already satisfied: pickle5 in /opt/conda/lib/python3.7/site-packages (0.0.11)\n"
     ]
    },
    {
     "data": {
      "text/plain": [
       "num_frames                                                           600\n",
       "width                                                               1920\n",
       "height                                                              1080\n",
       "ped_annotations        {'0_1_3b': {'old_id': 'pedestrian1', 'frames':...\n",
       "vehicle_annotations    {0: 1, 1: 1, 2: 1, 3: 1, 4: 1, 5: 1, 6: 1, 7: ...\n",
       "traffic_annotations    {'road_type': 1, 0: {'ped_crossing': 0, 'ped_s...\n",
       "Name: video_0001, dtype: object"
      ]
     },
     "execution_count": 22,
     "metadata": {},
     "output_type": "execute_result"
    }
   ],
   "source": [
    "!pip3 install pickle5\n",
    "import pickle5 as pickle\n",
    "import pandas as pd\n",
    "\n",
    "with open('jaad_database.pkl', 'rb') as pickle_file:\n",
    "    pickle_data = pickle.load(pickle_file)\n",
    "\n",
    "labels = pd.DataFrame(data=pickle_data)\n",
    "labels['video_0001']"
   ]
  },
  {
   "cell_type": "markdown",
   "metadata": {
    "id": "V8Bqr3D6ERcw"
   },
   "source": [
    "# FastAPI Deployment"
   ]
  },
  {
   "cell_type": "code",
   "execution_count": 23,
   "metadata": {
    "id": "wFehIelzjo0E"
   },
   "outputs": [],
   "source": [
    "app = FastAPI()\n",
    "\n",
    "@app.on_event(\"startup\")\n",
    "def start_wandb():\n",
    "   init_wandb(location)\n",
    "   return {'message': ('Weights and Balances Started as project: ' + wandb_project)}\n",
    "\n",
    "@app.get('/')\n",
    "def index():\n",
    "    return {'message': 'This is the homepage of the model, add \\'/docs\\' to the end of the URL to access FastAPI to make predictions with the model'}\n",
    "\n",
    "@app.get('/set_gcp_location')\n",
    "def set_gcp_location(string_input):\n",
    "    set_folder_location(str(string_input))\n",
    "    return {'message': ('GCP Location Set to: ' + location)}\n",
    "\n",
    "@app.get('/clean_single_video')\n",
    "async def single_clean(string_input):\n",
    "    clean_video(str(string_input))\n",
    "    return {'message': ('Video: ' + str(string_input) + ' cleaned and uploaded to gs://' + location)}\n",
    "\n",
    "@app.get('/clean_bucket')\n",
    "async def full_clean():\n",
    "    clean_entire_bucket()\n",
    "    return {'message': ('Bucket: ' + location + ' cleaned and uploaded to gs://' + location)}\n",
    "\n",
    "                \n",
    "#@app.post('/predict_single')\n",
    "#async def predict_api(file: UploadFile = File(...)):\n",
    "#    extension = file.filename.split(\".\")[-1] in (\"jpg\", \"jpeg\", \"png\")\n",
    "#    if not extension:\n",
    "#        return \"Image must be jpg or png format!\"\n",
    "#    image = read_imagefile(await file.read())\n",
    "#    prediction = run_predict_single(image)\n",
    "#    prediction = str(prediction)\n",
    "#    print(prediction)\n",
    "#    return prediction"
   ]
  },
  {
   "cell_type": "markdown",
   "metadata": {
    "id": "4SAjBQPcFQlK"
   },
   "source": [
    "# Run Deployment"
   ]
  },
  {
   "cell_type": "code",
   "execution_count": null,
   "metadata": {
    "colab": {
     "base_uri": "https://localhost:8080/"
    },
    "id": "HhmlEVYQFQRk",
    "outputId": "0819598b-d56a-443b-e6ae-0e54f2133bc5"
   },
   "outputs": [
    {
     "name": "stderr",
     "output_type": "stream",
     "text": [
      "INFO:     Started server process [11348]\n",
      "INFO:     Waiting for application startup.\n"
     ]
    },
    {
     "data": {
      "text/html": [
       "\n",
       "                Tracking run with wandb version 0.12.1<br/>\n",
       "                Syncing run <strong style=\"color:#cdcd00\">dulcet-snowball-4</strong> to <a href=\"https://wandb.ai\" target=\"_blank\">Weights & Biases</a> <a href=\"https://docs.wandb.com/integrations/jupyter.html\" target=\"_blank\">(Documentation)</a>.<br/>\n",
       "                Project page: <a href=\"https://wandb.ai/jamesysato/james-mlops-capstone\" target=\"_blank\">https://wandb.ai/jamesysato/james-mlops-capstone</a><br/>\n",
       "                Run page: <a href=\"https://wandb.ai/jamesysato/james-mlops-capstone/runs/d58hjo03\" target=\"_blank\">https://wandb.ai/jamesysato/james-mlops-capstone/runs/d58hjo03</a><br/>\n",
       "                Run data is saved locally in <code>/home/jupyter/wandb/run-20210911_195405-d58hjo03</code><br/><br/>\n",
       "            "
      ],
      "text/plain": [
       "<IPython.core.display.HTML object>"
      ]
     },
     "metadata": {},
     "output_type": "display_data"
    },
    {
     "name": "stderr",
     "output_type": "stream",
     "text": [
      "INFO:     Application startup complete.\n",
      "INFO:     Uvicorn running on http://0.0.0.0:8000 (Press CTRL+C to quit)\n",
      "WARNING:  Invalid HTTP request received.\n",
      "Traceback (most recent call last):\n",
      "  File \"/opt/conda/lib/python3.7/site-packages/uvicorn/protocols/http/h11_impl.py\", line 136, in handle_events\n",
      "    event = self.conn.next_event()\n",
      "  File \"/opt/conda/lib/python3.7/site-packages/h11/_connection.py\", line 443, in next_event\n",
      "    exc._reraise_as_remote_protocol_error()\n",
      "  File \"/opt/conda/lib/python3.7/site-packages/h11/_util.py\", line 76, in _reraise_as_remote_protocol_error\n",
      "    raise self\n",
      "  File \"/opt/conda/lib/python3.7/site-packages/h11/_connection.py\", line 425, in next_event\n",
      "    event = self._extract_next_receive_event()\n",
      "  File \"/opt/conda/lib/python3.7/site-packages/h11/_connection.py\", line 367, in _extract_next_receive_event\n",
      "    event = self._reader(self._receive_buffer)\n",
      "  File \"/opt/conda/lib/python3.7/site-packages/h11/_readers.py\", line 68, in maybe_read_from_IDLE_client\n",
      "    raise LocalProtocolError(\"illegal request line\")\n",
      "h11._util.RemoteProtocolError: illegal request line\n",
      "WARNING:  Invalid HTTP request received.\n",
      "Traceback (most recent call last):\n",
      "  File \"/opt/conda/lib/python3.7/site-packages/uvicorn/protocols/http/h11_impl.py\", line 136, in handle_events\n",
      "    event = self.conn.next_event()\n",
      "  File \"/opt/conda/lib/python3.7/site-packages/h11/_connection.py\", line 443, in next_event\n",
      "    exc._reraise_as_remote_protocol_error()\n",
      "  File \"/opt/conda/lib/python3.7/site-packages/h11/_util.py\", line 76, in _reraise_as_remote_protocol_error\n",
      "    raise self\n",
      "  File \"/opt/conda/lib/python3.7/site-packages/h11/_connection.py\", line 425, in next_event\n",
      "    event = self._extract_next_receive_event()\n",
      "  File \"/opt/conda/lib/python3.7/site-packages/h11/_connection.py\", line 367, in _extract_next_receive_event\n",
      "    event = self._reader(self._receive_buffer)\n",
      "  File \"/opt/conda/lib/python3.7/site-packages/h11/_readers.py\", line 73, in maybe_read_from_IDLE_client\n",
      "    request_line_re, lines[0], \"illegal request line: {!r}\", lines[0]\n",
      "  File \"/opt/conda/lib/python3.7/site-packages/h11/_util.py\", line 88, in validate\n",
      "    raise LocalProtocolError(msg)\n",
      "h11._util.RemoteProtocolError: illegal request line: bytearray(b'\\x16\\x03\\x01\\x02\\x00\\x01\\x00\\x01\\xfc\\x03\\x03\\x8d\\x9dL\\x01/\\x86\\x94\\xe4\\x8a\\xc58\\xadfJ\\xf0\\x84V\\xf2Q\\xf8\\xfa')\n",
      "WARNING:  Invalid HTTP request received.\n",
      "Traceback (most recent call last):\n",
      "  File \"/opt/conda/lib/python3.7/site-packages/uvicorn/protocols/http/h11_impl.py\", line 136, in handle_events\n",
      "    event = self.conn.next_event()\n",
      "  File \"/opt/conda/lib/python3.7/site-packages/h11/_connection.py\", line 443, in next_event\n",
      "    exc._reraise_as_remote_protocol_error()\n",
      "  File \"/opt/conda/lib/python3.7/site-packages/h11/_util.py\", line 76, in _reraise_as_remote_protocol_error\n",
      "    raise self\n",
      "  File \"/opt/conda/lib/python3.7/site-packages/h11/_connection.py\", line 425, in next_event\n",
      "    event = self._extract_next_receive_event()\n",
      "  File \"/opt/conda/lib/python3.7/site-packages/h11/_connection.py\", line 367, in _extract_next_receive_event\n",
      "    event = self._reader(self._receive_buffer)\n",
      "  File \"/opt/conda/lib/python3.7/site-packages/h11/_readers.py\", line 68, in maybe_read_from_IDLE_client\n",
      "    raise LocalProtocolError(\"illegal request line\")\n",
      "h11._util.RemoteProtocolError: illegal request line\n",
      "WARNING:  Invalid HTTP request received.\n",
      "Traceback (most recent call last):\n",
      "  File \"/opt/conda/lib/python3.7/site-packages/uvicorn/protocols/http/h11_impl.py\", line 136, in handle_events\n",
      "    event = self.conn.next_event()\n",
      "  File \"/opt/conda/lib/python3.7/site-packages/h11/_connection.py\", line 443, in next_event\n",
      "    exc._reraise_as_remote_protocol_error()\n",
      "  File \"/opt/conda/lib/python3.7/site-packages/h11/_util.py\", line 76, in _reraise_as_remote_protocol_error\n",
      "    raise self\n",
      "  File \"/opt/conda/lib/python3.7/site-packages/h11/_connection.py\", line 425, in next_event\n",
      "    event = self._extract_next_receive_event()\n",
      "  File \"/opt/conda/lib/python3.7/site-packages/h11/_connection.py\", line 367, in _extract_next_receive_event\n",
      "    event = self._reader(self._receive_buffer)\n",
      "  File \"/opt/conda/lib/python3.7/site-packages/h11/_readers.py\", line 68, in maybe_read_from_IDLE_client\n",
      "    raise LocalProtocolError(\"illegal request line\")\n",
      "h11._util.RemoteProtocolError: illegal request line\n",
      "WARNING:  Invalid HTTP request received.\n",
      "Traceback (most recent call last):\n",
      "  File \"/opt/conda/lib/python3.7/site-packages/uvicorn/protocols/http/h11_impl.py\", line 136, in handle_events\n",
      "    event = self.conn.next_event()\n",
      "  File \"/opt/conda/lib/python3.7/site-packages/h11/_connection.py\", line 443, in next_event\n",
      "    exc._reraise_as_remote_protocol_error()\n",
      "  File \"/opt/conda/lib/python3.7/site-packages/h11/_util.py\", line 76, in _reraise_as_remote_protocol_error\n",
      "    raise self\n",
      "  File \"/opt/conda/lib/python3.7/site-packages/h11/_connection.py\", line 425, in next_event\n",
      "    event = self._extract_next_receive_event()\n",
      "  File \"/opt/conda/lib/python3.7/site-packages/h11/_connection.py\", line 367, in _extract_next_receive_event\n",
      "    event = self._reader(self._receive_buffer)\n",
      "  File \"/opt/conda/lib/python3.7/site-packages/h11/_readers.py\", line 68, in maybe_read_from_IDLE_client\n",
      "    raise LocalProtocolError(\"illegal request line\")\n",
      "h11._util.RemoteProtocolError: illegal request line\n",
      "WARNING:  Invalid HTTP request received.\n",
      "Traceback (most recent call last):\n",
      "  File \"/opt/conda/lib/python3.7/site-packages/uvicorn/protocols/http/h11_impl.py\", line 136, in handle_events\n",
      "    event = self.conn.next_event()\n",
      "  File \"/opt/conda/lib/python3.7/site-packages/h11/_connection.py\", line 443, in next_event\n",
      "    exc._reraise_as_remote_protocol_error()\n",
      "  File \"/opt/conda/lib/python3.7/site-packages/h11/_util.py\", line 76, in _reraise_as_remote_protocol_error\n",
      "    raise self\n",
      "  File \"/opt/conda/lib/python3.7/site-packages/h11/_connection.py\", line 425, in next_event\n",
      "    event = self._extract_next_receive_event()\n",
      "  File \"/opt/conda/lib/python3.7/site-packages/h11/_connection.py\", line 367, in _extract_next_receive_event\n",
      "    event = self._reader(self._receive_buffer)\n",
      "  File \"/opt/conda/lib/python3.7/site-packages/h11/_readers.py\", line 68, in maybe_read_from_IDLE_client\n",
      "    raise LocalProtocolError(\"illegal request line\")\n",
      "h11._util.RemoteProtocolError: illegal request line\n",
      "WARNING:  Invalid HTTP request received.\n",
      "Traceback (most recent call last):\n",
      "  File \"/opt/conda/lib/python3.7/site-packages/uvicorn/protocols/http/h11_impl.py\", line 136, in handle_events\n",
      "    event = self.conn.next_event()\n",
      "  File \"/opt/conda/lib/python3.7/site-packages/h11/_connection.py\", line 443, in next_event\n",
      "    exc._reraise_as_remote_protocol_error()\n",
      "  File \"/opt/conda/lib/python3.7/site-packages/h11/_util.py\", line 76, in _reraise_as_remote_protocol_error\n",
      "    raise self\n",
      "  File \"/opt/conda/lib/python3.7/site-packages/h11/_connection.py\", line 425, in next_event\n",
      "    event = self._extract_next_receive_event()\n",
      "  File \"/opt/conda/lib/python3.7/site-packages/h11/_connection.py\", line 367, in _extract_next_receive_event\n",
      "    event = self._reader(self._receive_buffer)\n",
      "  File \"/opt/conda/lib/python3.7/site-packages/h11/_readers.py\", line 68, in maybe_read_from_IDLE_client\n",
      "    raise LocalProtocolError(\"illegal request line\")\n",
      "h11._util.RemoteProtocolError: illegal request line\n",
      "WARNING:  Invalid HTTP request received.\n",
      "Traceback (most recent call last):\n",
      "  File \"/opt/conda/lib/python3.7/site-packages/uvicorn/protocols/http/h11_impl.py\", line 136, in handle_events\n",
      "    event = self.conn.next_event()\n",
      "  File \"/opt/conda/lib/python3.7/site-packages/h11/_connection.py\", line 443, in next_event\n",
      "    exc._reraise_as_remote_protocol_error()\n",
      "  File \"/opt/conda/lib/python3.7/site-packages/h11/_util.py\", line 76, in _reraise_as_remote_protocol_error\n",
      "    raise self\n",
      "  File \"/opt/conda/lib/python3.7/site-packages/h11/_connection.py\", line 425, in next_event\n",
      "    event = self._extract_next_receive_event()\n",
      "  File \"/opt/conda/lib/python3.7/site-packages/h11/_connection.py\", line 367, in _extract_next_receive_event\n",
      "    event = self._reader(self._receive_buffer)\n",
      "  File \"/opt/conda/lib/python3.7/site-packages/h11/_readers.py\", line 73, in maybe_read_from_IDLE_client\n",
      "    request_line_re, lines[0], \"illegal request line: {!r}\", lines[0]\n",
      "  File \"/opt/conda/lib/python3.7/site-packages/h11/_util.py\", line 88, in validate\n",
      "    raise LocalProtocolError(msg)\n",
      "h11._util.RemoteProtocolError: illegal request line: bytearray(b'\\x16\\x03\\x01\\x02\\x00\\x01\\x00\\x01\\xfc\\x03\\x03\\xa0\\t\\xabN\\x08)l\\x87i\\xc1\\xdf\\xbe4\\xbb\\x89\\xb9m\\xc3\\x11]Wv\\xf5\\xb8Z\\xd1\\xf1EYM`O \\x02\\x06c\\xc6\\xb4\\xcfO\\xa1@b\\xe8\\xe9n\\x01\\xf1`\\x1fX\\xe0\\xcd\\x90\\xe1\\xaf\\xfb\\x1aJ\\xbcT\\xee\\xa6}\\xa8\\x00 jj\\x13\\x01\\x13\\x02\\x13\\x03\\xc0+\\xc0/\\xc0,\\xc00\\xcc\\xa9\\xcc\\xa8\\xc0\\x13\\xc0\\x14\\x00\\x9c\\x00\\x9d\\x00/\\x005\\x01\\x00\\x01\\x93\\x1a\\x1a\\x00\\x00\\x00\\x17\\x00\\x00\\xff\\x01\\x00\\x01\\x00\\x00')\n",
      "WARNING:  Invalid HTTP request received.\n",
      "Traceback (most recent call last):\n",
      "  File \"/opt/conda/lib/python3.7/site-packages/uvicorn/protocols/http/h11_impl.py\", line 136, in handle_events\n",
      "    event = self.conn.next_event()\n",
      "  File \"/opt/conda/lib/python3.7/site-packages/h11/_connection.py\", line 443, in next_event\n",
      "    exc._reraise_as_remote_protocol_error()\n",
      "  File \"/opt/conda/lib/python3.7/site-packages/h11/_util.py\", line 76, in _reraise_as_remote_protocol_error\n",
      "    raise self\n",
      "  File \"/opt/conda/lib/python3.7/site-packages/h11/_connection.py\", line 425, in next_event\n",
      "    event = self._extract_next_receive_event()\n",
      "  File \"/opt/conda/lib/python3.7/site-packages/h11/_connection.py\", line 367, in _extract_next_receive_event\n",
      "    event = self._reader(self._receive_buffer)\n",
      "  File \"/opt/conda/lib/python3.7/site-packages/h11/_readers.py\", line 68, in maybe_read_from_IDLE_client\n",
      "    raise LocalProtocolError(\"illegal request line\")\n",
      "h11._util.RemoteProtocolError: illegal request line\n",
      "WARNING:  Invalid HTTP request received.\n",
      "Traceback (most recent call last):\n",
      "  File \"/opt/conda/lib/python3.7/site-packages/uvicorn/protocols/http/h11_impl.py\", line 136, in handle_events\n",
      "    event = self.conn.next_event()\n",
      "  File \"/opt/conda/lib/python3.7/site-packages/h11/_connection.py\", line 443, in next_event\n",
      "    exc._reraise_as_remote_protocol_error()\n",
      "  File \"/opt/conda/lib/python3.7/site-packages/h11/_util.py\", line 76, in _reraise_as_remote_protocol_error\n",
      "    raise self\n",
      "  File \"/opt/conda/lib/python3.7/site-packages/h11/_connection.py\", line 425, in next_event\n",
      "    event = self._extract_next_receive_event()\n",
      "  File \"/opt/conda/lib/python3.7/site-packages/h11/_connection.py\", line 367, in _extract_next_receive_event\n",
      "    event = self._reader(self._receive_buffer)\n",
      "  File \"/opt/conda/lib/python3.7/site-packages/h11/_readers.py\", line 68, in maybe_read_from_IDLE_client\n",
      "    raise LocalProtocolError(\"illegal request line\")\n",
      "h11._util.RemoteProtocolError: illegal request line\n",
      "WARNING:  Invalid HTTP request received.\n",
      "Traceback (most recent call last):\n",
      "  File \"/opt/conda/lib/python3.7/site-packages/uvicorn/protocols/http/h11_impl.py\", line 136, in handle_events\n",
      "    event = self.conn.next_event()\n",
      "  File \"/opt/conda/lib/python3.7/site-packages/h11/_connection.py\", line 443, in next_event\n",
      "    exc._reraise_as_remote_protocol_error()\n",
      "  File \"/opt/conda/lib/python3.7/site-packages/h11/_util.py\", line 76, in _reraise_as_remote_protocol_error\n",
      "    raise self\n",
      "  File \"/opt/conda/lib/python3.7/site-packages/h11/_connection.py\", line 425, in next_event\n",
      "    event = self._extract_next_receive_event()\n",
      "  File \"/opt/conda/lib/python3.7/site-packages/h11/_connection.py\", line 367, in _extract_next_receive_event\n",
      "    event = self._reader(self._receive_buffer)\n",
      "  File \"/opt/conda/lib/python3.7/site-packages/h11/_readers.py\", line 68, in maybe_read_from_IDLE_client\n",
      "    raise LocalProtocolError(\"illegal request line\")\n",
      "h11._util.RemoteProtocolError: illegal request line\n",
      "WARNING:  Invalid HTTP request received.\n",
      "Traceback (most recent call last):\n",
      "  File \"/opt/conda/lib/python3.7/site-packages/uvicorn/protocols/http/h11_impl.py\", line 136, in handle_events\n",
      "    event = self.conn.next_event()\n",
      "  File \"/opt/conda/lib/python3.7/site-packages/h11/_connection.py\", line 443, in next_event\n",
      "    exc._reraise_as_remote_protocol_error()\n",
      "  File \"/opt/conda/lib/python3.7/site-packages/h11/_util.py\", line 76, in _reraise_as_remote_protocol_error\n",
      "    raise self\n",
      "  File \"/opt/conda/lib/python3.7/site-packages/h11/_connection.py\", line 425, in next_event\n",
      "    event = self._extract_next_receive_event()\n",
      "  File \"/opt/conda/lib/python3.7/site-packages/h11/_connection.py\", line 367, in _extract_next_receive_event\n",
      "    event = self._reader(self._receive_buffer)\n",
      "  File \"/opt/conda/lib/python3.7/site-packages/h11/_readers.py\", line 68, in maybe_read_from_IDLE_client\n",
      "    raise LocalProtocolError(\"illegal request line\")\n",
      "h11._util.RemoteProtocolError: illegal request line\n",
      "WARNING:  Invalid HTTP request received.\n",
      "Traceback (most recent call last):\n",
      "  File \"/opt/conda/lib/python3.7/site-packages/uvicorn/protocols/http/h11_impl.py\", line 136, in handle_events\n",
      "    event = self.conn.next_event()\n",
      "  File \"/opt/conda/lib/python3.7/site-packages/h11/_connection.py\", line 443, in next_event\n",
      "    exc._reraise_as_remote_protocol_error()\n",
      "  File \"/opt/conda/lib/python3.7/site-packages/h11/_util.py\", line 76, in _reraise_as_remote_protocol_error\n",
      "    raise self\n",
      "  File \"/opt/conda/lib/python3.7/site-packages/h11/_connection.py\", line 425, in next_event\n",
      "    event = self._extract_next_receive_event()\n",
      "  File \"/opt/conda/lib/python3.7/site-packages/h11/_connection.py\", line 367, in _extract_next_receive_event\n",
      "    event = self._reader(self._receive_buffer)\n",
      "  File \"/opt/conda/lib/python3.7/site-packages/h11/_readers.py\", line 68, in maybe_read_from_IDLE_client\n",
      "    raise LocalProtocolError(\"illegal request line\")\n",
      "h11._util.RemoteProtocolError: illegal request line\n",
      "WARNING:  Invalid HTTP request received.\n",
      "Traceback (most recent call last):\n",
      "  File \"/opt/conda/lib/python3.7/site-packages/uvicorn/protocols/http/h11_impl.py\", line 136, in handle_events\n",
      "    event = self.conn.next_event()\n",
      "  File \"/opt/conda/lib/python3.7/site-packages/h11/_connection.py\", line 443, in next_event\n",
      "    exc._reraise_as_remote_protocol_error()\n",
      "  File \"/opt/conda/lib/python3.7/site-packages/h11/_util.py\", line 76, in _reraise_as_remote_protocol_error\n",
      "    raise self\n",
      "  File \"/opt/conda/lib/python3.7/site-packages/h11/_connection.py\", line 425, in next_event\n",
      "    event = self._extract_next_receive_event()\n",
      "  File \"/opt/conda/lib/python3.7/site-packages/h11/_connection.py\", line 367, in _extract_next_receive_event\n",
      "    event = self._reader(self._receive_buffer)\n",
      "  File \"/opt/conda/lib/python3.7/site-packages/h11/_readers.py\", line 68, in maybe_read_from_IDLE_client\n",
      "    raise LocalProtocolError(\"illegal request line\")\n",
      "h11._util.RemoteProtocolError: illegal request line\n"
     ]
    },
    {
     "name": "stdout",
     "output_type": "stream",
     "text": [
      "INFO:     99.147.232.13:58786 - \"GET / HTTP/1.1\" 200 OK\n",
      "INFO:     99.147.232.13:58786 - \"GET /favicon.ico HTTP/1.1\" 404 Not Found\n",
      "INFO:     99.147.232.13:58786 - \"GET /docs HTTP/1.1\" 200 OK\n",
      "INFO:     99.147.232.13:58786 - \"GET /openapi.json HTTP/1.1\" 200 OK\n",
      "Downloading: video_0002.mp4\n",
      "Splitting: video_0002.mp4\n",
      "mkdir: cannot create directory ‘video_0002’: File exists\n",
      "Calculating Average Blurriness\n",
      "Average Blur (Laplacian Variance): 118.65879611907178\n",
      "Blur Cutoff (Laplacian Variance): 124.59173592502538\n",
      "Removing Blurry Images\n",
      "Deleting frame0001.png - Blurriness: 160.5361510474856\n",
      "Deleting frame0002.png - Blurriness: 160.55138396183614\n",
      "Deleting frame0003.png - Blurriness: 155.81093768205062\n",
      "Deleting frame0004.png - Blurriness: 154.56900771992852\n",
      "Deleting frame0005.png - Blurriness: 153.0689992985889\n",
      "Deleting frame0006.png - Blurriness: 154.5938834731643\n",
      "Deleting frame0007.png - Blurriness: 154.38932801427694\n",
      "Deleting frame0008.png - Blurriness: 153.55330497709718\n",
      "Deleting frame0009.png - Blurriness: 152.0936585101511\n",
      "Deleting frame0010.png - Blurriness: 152.25109189121366\n",
      "Deleting frame0011.png - Blurriness: 145.9799455856427\n",
      "Deleting frame0012.png - Blurriness: 153.18484643373256\n",
      "Deleting frame0013.png - Blurriness: 137.8901494502126\n",
      "Deleting frame0014.png - Blurriness: 136.72482586161058\n",
      "Deleting frame0015.png - Blurriness: 141.7681613541462\n",
      "Deleting frame0016.png - Blurriness: 138.45142426891567\n",
      "Deleting frame0017.png - Blurriness: 134.38245092179466\n",
      "Deleting frame0018.png - Blurriness: 129.10847149310374\n",
      "Deleting frame0019.png - Blurriness: 126.5081651979148\n",
      "Deleting frame0020.png - Blurriness: 125.38088488417046\n",
      "Deleting frame0021.png - Blurriness: 125.82654915167733\n",
      "Deleting frame0022.png - Blurriness: 129.59726367722962\n",
      "Deleting frame0023.png - Blurriness: 130.12878801846583\n",
      "Deleting frame0025.png - Blurriness: 131.3670576220845\n",
      "Deleting frame0026.png - Blurriness: 132.53639384418796\n",
      "Deleting frame0027.png - Blurriness: 134.3078701052418\n",
      "Deleting frame0028.png - Blurriness: 138.08901041629457\n",
      "Deleting frame0029.png - Blurriness: 141.5615648727288\n",
      "Deleting frame0030.png - Blurriness: 144.941711402037\n",
      "Deleting frame0031.png - Blurriness: 144.49047516276045\n",
      "Deleting frame0032.png - Blurriness: 144.9898772914368\n",
      "Deleting frame0033.png - Blurriness: 146.48998846045384\n",
      "Deleting frame0034.png - Blurriness: 148.6834273056127\n",
      "Deleting frame0035.png - Blurriness: 148.80705563836378\n",
      "Deleting frame0036.png - Blurriness: 137.8462178170894\n",
      "Deleting frame0037.png - Blurriness: 135.53983252930942\n",
      "Deleting frame0038.png - Blurriness: 144.50823351070989\n",
      "Deleting frame0039.png - Blurriness: 131.77224998959935\n",
      "Deleting frame0040.png - Blurriness: 132.2764721521428\n",
      "Deleting frame0041.png - Blurriness: 138.05920689751375\n",
      "Deleting frame0042.png - Blurriness: 136.97623747341444\n",
      "Deleting frame0043.png - Blurriness: 136.90188485323335\n",
      "Deleting frame0044.png - Blurriness: 136.56698987743988\n",
      "Deleting frame0045.png - Blurriness: 136.72969041598432\n",
      "Deleting frame0046.png - Blurriness: 139.36146266691213\n",
      "Deleting frame0047.png - Blurriness: 139.78234890840537\n",
      "Deleting frame0048.png - Blurriness: 134.75510366411032\n",
      "Deleting frame0049.png - Blurriness: 135.86916096987326\n",
      "Deleting frame0050.png - Blurriness: 142.79897494721627\n",
      "Deleting frame0051.png - Blurriness: 130.394304900493\n",
      "Deleting frame0052.png - Blurriness: 133.0400858667909\n",
      "Deleting frame0053.png - Blurriness: 138.80892124420083\n",
      "Deleting frame0054.png - Blurriness: 137.07839804819764\n",
      "Deleting frame0055.png - Blurriness: 136.12841176138778\n",
      "Deleting frame0056.png - Blurriness: 137.5903565711216\n",
      "Deleting frame0057.png - Blurriness: 138.8595549893398\n",
      "Deleting frame0058.png - Blurriness: 139.87971033276258\n",
      "Deleting frame0059.png - Blurriness: 141.20239462843531\n",
      "Deleting frame0060.png - Blurriness: 137.2823307743666\n",
      "Deleting frame0061.png - Blurriness: 137.233546226964\n",
      "Deleting frame0062.png - Blurriness: 148.34520501544307\n",
      "Deleting frame0063.png - Blurriness: 148.31974169058583\n",
      "Deleting frame0064.png - Blurriness: 149.42321730173157\n",
      "Deleting frame0065.png - Blurriness: 151.65312646489923\n",
      "Deleting frame0066.png - Blurriness: 152.14369086180614\n",
      "Deleting frame0067.png - Blurriness: 142.31158775096108\n",
      "Deleting frame0068.png - Blurriness: 144.15880726950735\n",
      "Deleting frame0069.png - Blurriness: 151.5244510573389\n",
      "Deleting frame0070.png - Blurriness: 150.6177712840306\n",
      "Deleting frame0071.png - Blurriness: 151.50825868001607\n",
      "Deleting frame0072.png - Blurriness: 143.50478249310746\n",
      "Deleting frame0073.png - Blurriness: 146.19188109514317\n",
      "Deleting frame0074.png - Blurriness: 153.72040928939916\n",
      "Deleting frame0075.png - Blurriness: 153.7000098745747\n",
      "Deleting frame0076.png - Blurriness: 154.38896875769123\n",
      "Deleting frame0077.png - Blurriness: 155.01380400109852\n",
      "Deleting frame0078.png - Blurriness: 155.70592158551406\n",
      "Deleting frame0079.png - Blurriness: 143.77090930761648\n",
      "Deleting frame0080.png - Blurriness: 144.6006248469179\n",
      "Deleting frame0081.png - Blurriness: 140.99998671562057\n",
      "Deleting frame0082.png - Blurriness: 149.08599107828437\n",
      "Deleting frame0083.png - Blurriness: 146.97612054034977\n",
      "Deleting frame0084.png - Blurriness: 138.35941216549804\n",
      "Deleting frame0085.png - Blurriness: 137.23131284319504\n",
      "Deleting frame0086.png - Blurriness: 144.13871129918977\n",
      "Deleting frame0087.png - Blurriness: 141.9732967391951\n",
      "Deleting frame0088.png - Blurriness: 141.27253452537664\n",
      "Deleting frame0089.png - Blurriness: 139.95989256732432\n",
      "Deleting frame0090.png - Blurriness: 138.43113674107272\n",
      "Deleting frame0091.png - Blurriness: 137.25584474263553\n",
      "Deleting frame0092.png - Blurriness: 136.72074555761182\n",
      "Deleting frame0093.png - Blurriness: 129.42985456299036\n",
      "Deleting frame0094.png - Blurriness: 131.54722270009347\n",
      "Deleting frame0095.png - Blurriness: 137.5802274119015\n",
      "Deleting frame0096.png - Blurriness: 129.24099641281268\n",
      "Deleting frame0097.png - Blurriness: 126.87327397377763\n",
      "Deleting frame0098.png - Blurriness: 125.28080931812596\n",
      "Deleting frame0099.png - Blurriness: 131.2560959540917\n",
      "Deleting frame0100.png - Blurriness: 130.0936231460604\n",
      "Deleting frame0101.png - Blurriness: 131.0626238924922\n",
      "Deleting frame0102.png - Blurriness: 134.85042059182697\n",
      "Deleting frame0103.png - Blurriness: 128.42169786187745\n",
      "Deleting frame0104.png - Blurriness: 129.2484050920565\n",
      "Deleting frame0105.png - Blurriness: 127.50018236491982\n",
      "Deleting frame0106.png - Blurriness: 134.21031023025662\n",
      "Deleting frame0107.png - Blurriness: 134.69070089042668\n",
      "Deleting frame0108.png - Blurriness: 126.9098087556674\n",
      "Deleting frame0109.png - Blurriness: 127.38509633291717\n",
      "Deleting frame0110.png - Blurriness: 135.6605863637543\n",
      "Deleting frame0111.png - Blurriness: 128.0533453560253\n",
      "Deleting frame0112.png - Blurriness: 128.1841223943427\n",
      "Deleting frame0113.png - Blurriness: 126.1763736632546\n",
      "Deleting frame0114.png - Blurriness: 132.57186888118696\n",
      "Deleting frame0115.png - Blurriness: 126.70532376065957\n",
      "Deleting frame0116.png - Blurriness: 127.29549202827256\n",
      "Deleting frame0117.png - Blurriness: 125.8445219456018\n",
      "Deleting frame0118.png - Blurriness: 134.6647972820787\n",
      "Deleting frame0119.png - Blurriness: 126.81359285051406\n",
      "Deleting frame0120.png - Blurriness: 126.40670105545607\n",
      "Deleting frame0121.png - Blurriness: 124.76973719412555\n",
      "Deleting frame0122.png - Blurriness: 132.08184377285477\n",
      "Deleting frame0123.png - Blurriness: 125.80305641940998\n",
      "Deleting frame0124.png - Blurriness: 126.87247070796968\n",
      "Deleting frame0125.png - Blurriness: 126.54733093937072\n",
      "Deleting frame0126.png - Blurriness: 135.40811894206402\n",
      "Deleting frame0127.png - Blurriness: 128.5185207979455\n",
      "Deleting frame0128.png - Blurriness: 128.38271510629508\n",
      "Deleting frame0129.png - Blurriness: 125.9761967012361\n",
      "Deleting frame0130.png - Blurriness: 133.27047036359406\n",
      "Deleting frame0134.png - Blurriness: 128.02222314653693\n",
      "Done Checking Frames                  \n",
      "Removing Duplicate and Highly Similar Frames\n",
      "Done Checking Frames           \n",
      "Uploading Frames\n",
      "INFO:     99.147.232.13:49325 - \"GET /clean_single_video?string_input=video_0002.mp4 HTTP/1.1\" 200 OK\n",
      "INFO:     99.147.232.13:59853 - \"GET / HTTP/1.1\" 200 OK\n"
     ]
    }
   ],
   "source": [
    "nest_asyncio.apply()\n",
    "uvicorn.run(app, host='0.0.0.0', port=8000)"
   ]
  },
  {
   "cell_type": "code",
   "execution_count": null,
   "metadata": {},
   "outputs": [],
   "source": []
  }
 ],
 "metadata": {
  "accelerator": "GPU",
  "colab": {
   "collapsed_sections": [],
   "name": "Capstone.ipynb",
   "provenance": []
  },
  "environment": {
   "name": "common-cu110.m79",
   "type": "gcloud",
   "uri": "gcr.io/deeplearning-platform-release/base-cu110:m79"
  },
  "kernelspec": {
   "display_name": "Python 3",
   "language": "python",
   "name": "python3"
  },
  "language_info": {
   "codemirror_mode": {
    "name": "ipython",
    "version": 3
   },
   "file_extension": ".py",
   "mimetype": "text/x-python",
   "name": "python",
   "nbconvert_exporter": "python",
   "pygments_lexer": "ipython3",
   "version": "3.7.10"
  }
 },
 "nbformat": 4,
 "nbformat_minor": 4
}
