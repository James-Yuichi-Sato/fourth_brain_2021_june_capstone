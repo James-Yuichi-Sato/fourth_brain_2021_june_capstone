{
 "cells": [
  {
   "cell_type": "markdown",
   "metadata": {
    "id": "j-wh0-R8nIvS",
    "tags": []
   },
   "source": [
    "# Import Libraries"
   ]
  },
  {
   "cell_type": "code",
   "execution_count": 1,
   "metadata": {
    "id": "S_kef3gWlciz"
   },
   "outputs": [],
   "source": [
    "%%capture\n",
    "#!pip install --upgrade fastapi ffmpeg google-cloud-storage uvicorn python-multipart tensorflow-gpu scikit-image imutils wandb tensorflow_hub Pillow pyyaml\n",
    "\n",
    "from fastapi import FastAPI\n",
    "from skimage.metrics import structural_similarity as compare_ssim\n",
    "\n",
    "from collections import Counter\n",
    "\n",
    "import tensorflow_hub as hub\n",
    "import numpy as np\n",
    "import tensorflow as tf\n",
    "from PIL import Image\n",
    "import ffmpeg, shutil, glob\n",
    "\n",
    "import multiprocessing as mp\n",
    "\n",
    "import pandas as pd\n",
    "\n",
    "import re\n",
    "\n",
    "from google.cloud import storage\n",
    "import nest_asyncio, uvicorn, os, pathlib\n",
    "import yaml\n",
    "import cv2#, wandb"
   ]
  },
  {
   "cell_type": "markdown",
   "metadata": {
    "id": "yFaiDWdISXGf",
    "tags": []
   },
   "source": [
    "# Set Up Google Cloud Parameters\n"
   ]
  },
  {
   "cell_type": "markdown",
   "metadata": {
    "id": "QMbfPM4GSgYt",
    "tags": []
   },
   "source": [
    "## Set Up Google Cloud Project and Model Location"
   ]
  },
  {
   "cell_type": "code",
   "execution_count": 2,
   "metadata": {
    "id": "2bjDmnc5SbHq"
   },
   "outputs": [],
   "source": [
    "location = 'james-mlsys' # Model Storage Bucket"
   ]
  },
  {
   "cell_type": "markdown",
   "metadata": {
    "id": "h4nk8gw3VHwz",
    "tags": []
   },
   "source": [
    "## Create Storage Bucket"
   ]
  },
  {
   "cell_type": "code",
   "execution_count": 3,
   "metadata": {
    "id": "R5BDNjqAVKun"
   },
   "outputs": [],
   "source": [
    "storage_client = storage.Client()\n",
    "\n",
    "bucket = storage_client.bucket(location)"
   ]
  },
  {
   "cell_type": "markdown",
   "metadata": {
    "id": "iZCVJpk3H3Ij",
    "tags": []
   },
   "source": [
    "# WandB Functions"
   ]
  },
  {
   "cell_type": "code",
   "execution_count": 4,
   "metadata": {
    "id": "6JDy6oOTH5v8"
   },
   "outputs": [],
   "source": [
    "#def init_wandb(project_name):\n",
    "#   global wandb_project\n",
    "#   wandb_project = str(project_name)\n",
    "#   wandb.init(project=wandb_project, sync_tensorboard=True)\n",
    "#   return True"
   ]
  },
  {
   "cell_type": "markdown",
   "metadata": {
    "id": "KxBHkID8TdsN",
    "tags": []
   },
   "source": [
    "# Set Bucket"
   ]
  },
  {
   "cell_type": "code",
   "execution_count": 5,
   "metadata": {
    "id": "q44f0uKITftp"
   },
   "outputs": [],
   "source": [
    "def set_bucket(in_location):\n",
    "    global location \n",
    "    location = str(in_location)\n",
    "    global bucket\n",
    "    bucket = storage_client.bucket(location)\n",
    "    return True"
   ]
  },
  {
   "cell_type": "markdown",
   "metadata": {
    "tags": []
   },
   "source": [
    "# Download Scripts"
   ]
  },
  {
   "cell_type": "markdown",
   "metadata": {
    "tags": []
   },
   "source": [
    "## Download Images and Labels"
   ]
  },
  {
   "cell_type": "code",
   "execution_count": 6,
   "metadata": {
    "tags": []
   },
   "outputs": [],
   "source": [
    "def download_images_and_labels(project_folder, image_folder, label_folder):\n",
    "    print(f'Downloading project folder: {project_folder}.                       ')\n",
    "    print(\"Checking if folder already downloaded\", end=\"\\r\")\n",
    "    img_dir = f'{project_folder}/{image_folder}'\n",
    "    label_dir = f'{project_folder}/{label_folder}'\n",
    "    if os.path.exists(img_dir):\n",
    "        print(f'Image folder {img_dir} already downloaded                       ')\n",
    "        download_images = False\n",
    "    else:\n",
    "        download_images = True\n",
    "    if os.path.exists(label_dir):\n",
    "        print(f'Label folder {img_dir} already downloaded                       ')\n",
    "        download_labels = False\n",
    "    else:\n",
    "        download_labels = True\n",
    "    if download_images:\n",
    "        os.makedirs(img_dir, exist_ok=True)\n",
    "        print(f'Downloading Image Folder: {img_dir}                       ')\n",
    "        blobs = storage_client.list_blobs(location, prefix = img_dir)\n",
    "        for blob in blobs:\n",
    "            print(f'Downloading: {blob.name}                       ', end = '\\r')\n",
    "            try:\n",
    "                blob.download_to_filename(blob.name) \n",
    "            except:\n",
    "                print(f'{blob.name} failed to download, skipping')\n",
    "    if download_labels:\n",
    "        os.makedirs(label_dir, exist_ok=True)\n",
    "        print(f'Downloading Label Folder: {label_dir}                       ')\n",
    "        blobs = storage_client.list_blobs(location, prefix = label_dir)\n",
    "        for blob in blobs:\n",
    "            print(f'Downloading: {blob.name}                       ', end = '\\r')\n",
    "            try:\n",
    "                blob.download_to_filename(blob.name) \n",
    "            except:\n",
    "                print(f'{blob.name} failed to download, skipping')\n",
    "    print(f'Downloading project folder: {project_folder} complete.                       ')"
   ]
  },
  {
   "cell_type": "markdown",
   "metadata": {
    "tags": []
   },
   "source": [
    "## Download Video to Local Instance"
   ]
  },
  {
   "cell_type": "code",
   "execution_count": 7,
   "metadata": {
    "tags": []
   },
   "outputs": [],
   "source": [
    "def download_video(video_name, extension, origin_folder, dest_folder):\n",
    "    print(\"Checking if video already downloaded\", end=\"\\r\")\n",
    "    vid_dir = f'{dest_folder}/{video_name}.{extension}'\n",
    "    if os.path.exists(vid_dir):\n",
    "        print(f'Video: {video_name}.{extension} already downloaded. Skipping Download.')\n",
    "        return\n",
    "    try:\n",
    "        os.mkdir(str(dest_folder))\n",
    "    except:\n",
    "        print(f'Folder: {dest_folder} already exists.          ')\n",
    "    def_location = f'{origin_folder}/{video_name}.{extension}'\n",
    "    print(f'Downloading: {def_location}')\n",
    "    blob = bucket.blob(def_location)\n",
    "    def_destination = f'{dest_folder}/{video_name}.{extension}'\n",
    "    blob.download_to_filename(def_destination)\n",
    "    print('Download Complete')"
   ]
  },
  {
   "cell_type": "markdown",
   "metadata": {
    "id": "Ia1dFbYETDJB",
    "tags": []
   },
   "source": [
    "# Split Video to Frames and Upload"
   ]
  },
  {
   "cell_type": "markdown",
   "metadata": {
    "tags": []
   },
   "source": [
    "## Break down video to frames"
   ]
  },
  {
   "cell_type": "code",
   "execution_count": 8,
   "metadata": {},
   "outputs": [],
   "source": [
    "def split_video_frames(video_name, extension, source_folder, dest_folder):\n",
    "    print(\"Checking if video already split\", end=\"\\r\")\n",
    "    path = f'{dest_folder}/frame00001.png'\n",
    "    if os.path.exists(path):\n",
    "        text_output = f'Video: {video_name} already split. Skipping split.'\n",
    "        print(text_output)\n",
    "        return\n",
    "    try:\n",
    "        os.mkdir(str(dest_folder))\n",
    "    except:\n",
    "        text_output = f'Folder: {dest_folder} already exists.'\n",
    "        print(text_output)\n",
    "    video_location = f'{source_folder}/{video_name}.{extension}'\n",
    "    video_capture = cv2.VideoCapture(video_location)\n",
    "    saved_frame_name = 1\n",
    "\n",
    "    while True:\n",
    "        print(\"Frame: \" + format(saved_frame_name, '05d'), end=\"\\r\")\n",
    "        success, frame = video_capture.read()\n",
    "\n",
    "        if success:\n",
    "            cv2.imwrite(f\"{str(dest_folder)}/frame{format(saved_frame_name, '05d')}.png\", frame)\n",
    "            saved_frame_name += 1\n",
    "        else:\n",
    "            break\n",
    "    print(\"Done                       \")"
   ]
  },
  {
   "cell_type": "markdown",
   "metadata": {
    "tags": []
   },
   "source": [
    "## Upload Video Frames"
   ]
  },
  {
   "cell_type": "code",
   "execution_count": 9,
   "metadata": {},
   "outputs": [],
   "source": [
    "def upload_frames(folder_name, extension):\n",
    "    files=sorted(glob.glob(f'{folder_name}/*.{extension}'))\n",
    "    #files=files[1:]\n",
    "    \n",
    "    print(\"Uploading Frames\")\n",
    "    for i in range(len(files)):\n",
    "        print(files[i] + \"             \", end=\"\\r\")\n",
    "        blob = bucket.blob(folder_name + \"/\" + files[i])\n",
    "        blob.upload_from_filename(folder_name + \"/\" + files[i])\n",
    "        \n",
    "    print(\"Done Uploading               \", end=\"\\r\")"
   ]
  },
  {
   "cell_type": "markdown",
   "metadata": {
    "tags": []
   },
   "source": [
    "# SSIM Compare Video Frames for Novel Frames"
   ]
  },
  {
   "cell_type": "markdown",
   "metadata": {
    "tags": []
   },
   "source": [
    "## Remove Blurry Images from Set"
   ]
  },
  {
   "cell_type": "markdown",
   "metadata": {
    "tags": []
   },
   "source": [
    "### Remove Blurry Images"
   ]
  },
  {
   "cell_type": "code",
   "execution_count": 30,
   "metadata": {},
   "outputs": [],
   "source": [
    "def parallel_laplacian_variance(file):\n",
    "    print(file + \"             \", end=\"\\r\")\n",
    "    img=cv2.imread(file)\n",
    "    img_gray=cv2.cvtColor(img, cv2.COLOR_BGR2GRAY)\n",
    "    laplacian=cv2.Laplacian(img_gray, cv2.CV_64F).var()\n",
    "    return laplacian\n",
    "\n",
    "def remove_blurry_images(folder_name, extension, delete_frames = False):\n",
    "    files=sorted(glob.glob(f'{folder_name}/*.{extension}'))\n",
    "    \n",
    "    #blurriness = np.zeros(len(files))\n",
    "    \n",
    "    print(\"Calculating Average Blurriness\")\n",
    "    \n",
    "    # Parallelize\n",
    "    pool = mp.Pool(mp.cpu_count())\n",
    "    \n",
    "    blurriness = [pool.apply(parallel_laplacian_variance, args=(file,)) for file in files]\n",
    "\n",
    "    pool.close()    \n",
    "    \n",
    "    median_blur = float(np.median(blurriness))\n",
    "    min_blur = float(np.min(blurriness))\n",
    "    max_blur = float(np.max(blurriness))\n",
    "    #wandb.log({'Individual Laplacian': blurriness, 'Batch Median Laplacian': median_blur})\n",
    "    print(\"Median Blur (Laplacian Variance): \" + str(median_blur))\n",
    "    blur_cutoff = median_blur*0.95 #+ ((1-average_blur)*0.1)\n",
    "    print(\"Blur Cutoff (Laplacian Variance): \" + str(blur_cutoff))\n",
    "    \n",
    "    print(\"Removing Noisy Images\")\n",
    "    \n",
    "    count = 0\n",
    "    removed_files = []\n",
    "    \n",
    "    cutoffs = {}\n",
    "    for percentage in np.arange(0, 1, 0.05):\n",
    "        cutoffs.update({f'{percentage}': float(np.quantile(blurriness, percentage))})\n",
    "    \n",
    "    for i in range(len(files)):\n",
    "        if blurriness[i] < blur_cutoff:\n",
    "            #print(\"Deleting \" + files[i] + \" - Laplacian Noisiness: \" + str(blurriness[i]))\n",
    "            removed_files.append(files[i])\n",
    "            if delete_frames == True:\n",
    "                os.remove(files[i])\n",
    "            count += 1\n",
    "    blur_ratio = count/len(files)\n",
    "    #wandb.log({'Noisy Frame Ratio': blur_ratio})\n",
    "    print(f\"Done Checking Frames, {count} frames removed.                 \")\n",
    "    return {'Total Original Frames': len(files), 'Removed Blurry Frame Count': count, 'Removed Blurry Frames': removed_files, 'Median Laplacian Variance': median_blur, 'Minimum Laplacian Variance': min_blur, 'Maximum Laplacian Variance': max_blur, 'Noisy Frame Ratio': blur_ratio, 'Laplacian Cutoffs': cutoffs}"
   ]
  },
  {
   "cell_type": "markdown",
   "metadata": {
    "tags": []
   },
   "source": [
    "# Deduplicate Similar Frames"
   ]
  },
  {
   "cell_type": "markdown",
   "metadata": {
    "jp-MarkdownHeadingCollapsed": true,
    "tags": []
   },
   "source": [
    "## Calculate Similarity Between Images"
   ]
  },
  {
   "cell_type": "code",
   "execution_count": 11,
   "metadata": {},
   "outputs": [],
   "source": [
    "def compare_images(image1, image2):\n",
    "    image_gray1 = cv2.cvtColor(image1, cv2.COLOR_BGR2GRAY)\n",
    "    image_gray2 = cv2.cvtColor(image2, cv2.COLOR_BGR2GRAY)\n",
    "    try:\n",
    "        diff, _ = compare_ssim(image_gray1, image_gray2, full=True)\n",
    "    except:\n",
    "        image_gray2 = cv2.resize(image_gray2, image_gray1.shape, interpolation = cv2.INTER_AREA)\n",
    "        diff, _ = compare_ssim(image_gray1, image_gray2, full=True)\n",
    "    return diff"
   ]
  },
  {
   "cell_type": "markdown",
   "metadata": {
    "tags": []
   },
   "source": [
    "## Remove Duplicates"
   ]
  },
  {
   "cell_type": "code",
   "execution_count": 32,
   "metadata": {},
   "outputs": [],
   "source": [
    "def parallel_compare_images(i, files):\n",
    "    image1 = cv2.imread(files[i])\n",
    "    image2 = cv2.imread(files[i+1])\n",
    "    image_gray1 = cv2.cvtColor(image1, cv2.COLOR_BGR2GRAY)\n",
    "    image_gray2 = cv2.cvtColor(image2, cv2.COLOR_BGR2GRAY)\n",
    "    try:\n",
    "        diff, _ = compare_ssim(image_gray1, image_gray2, full=True)\n",
    "    except:\n",
    "        image_gray2 = cv2.resize(image_gray2, (image_gray1.shape[1], image_gray1.shape[0]), interpolation = cv2.INTER_AREA)\n",
    "        diff, _ = compare_ssim(image_gray1, image_gray2, full=True)\n",
    "    print(f'Similarity between {files[i]} and {files[i+1]}: {diff}', end=\"\\r\")\n",
    "    return diff\n",
    "    \n",
    "\n",
    "def remove_duplicates(folder_name, extension, delete_frames = False):\n",
    "    files=sorted(glob.glob(f'{folder_name}/*.{extension}'))\n",
    "    print(\"Removing Duplicate and Highly Similar Frames\\nCalculating Frame Similarities\")\n",
    "    #diff = np.zeros(len(files)-1)    \n",
    "    \n",
    "    # Parallelize\n",
    "    pool = mp.Pool(mp.cpu_count())\n",
    "\n",
    "    diff = [pool.apply(parallel_compare_images, args=(i, files)) for i in range(len(files)-1)]\n",
    "\n",
    "    pool.close()   \n",
    "    \n",
    "    #for i in range(len(files)-1):\n",
    "    #    image1 = cv2.imread(files[i])\n",
    "    #    image2 = cv2.imread(files[i+1])\n",
    "    #    try:\n",
    "    #        diff[i] = compare_images(image1, image2)\n",
    "    #    except:\n",
    "    #        image2 = cv2.resize(image2, (image1.shape[1], image1.shape[0]), interpolation = cv2.INTER_AREA)\n",
    "    #        diff[i] = compare_images(image1, image2)\n",
    "    #    wandb.log({'Individual Frame Similarities': diff[i]})\n",
    "    #    print(str(diff[i]), end=\"\\r\")\n",
    "    \n",
    "    median_diff = float(np.median(diff))\n",
    "    #wandb.log({'Individual Frame Similarities': diff, 'Batch Median Frame Similarity': median_diff})\n",
    "    \n",
    "    diff_cutoff = median_diff*1.05\n",
    "    \n",
    "    if diff_cutoff < 0.95:\n",
    "        diff_cutoff = 0.95\n",
    "        \n",
    "    print(f'Similarity Cutoff (OpenCV Compare Images): {diff_cutoff}')\n",
    "    print('Removing Duplicate Images')\n",
    "    \n",
    "    count = 0\n",
    "    removed_files = []\n",
    "    \n",
    "    cutoffs = {}\n",
    "    for percentage in np.arange(0, 1, 0.05):\n",
    "        cutoffs.update({f'{percentage}': float(np.quantile(diff, percentage))})\n",
    "    \n",
    "    for i in range(len(diff)):\n",
    "        if diff[i] > 0.99:\n",
    "            #print(\"Deleting \" + files[i] + \" - Similarity: \" + str(diff[i]), end=\"\\r\")\n",
    "            removed_files.append(files[i])\n",
    "            if delete_frames == True:\n",
    "                os.remove(files[i])\n",
    "            #wandb.log({'Duplicates Similarity': diff})\n",
    "            count += 1\n",
    "        \n",
    "    duplicate_ratio = count/len(files)\n",
    "    #wandb.log({'Batch Duplicate Remove Ratio': duplicate_ratio})\n",
    "    print(\"Done Checking Frames, \" + str(count) + \" frames removed.\")\n",
    "    return {'Removed Duplicate Frame Count': count, 'Removed Duplicate Frames': removed_files, 'Median Frame Similarity': median_diff, 'Duplicate Frame Ratio': duplicate_ratio, 'Similarity Cutoffs': cutoffs}"
   ]
  },
  {
   "cell_type": "markdown",
   "metadata": {
    "tags": []
   },
   "source": [
    "# Get Insight into the Dataset using Faster RCNN Resnet50 COCO 2018/01/28"
   ]
  },
  {
   "cell_type": "code",
   "execution_count": 13,
   "metadata": {},
   "outputs": [
    {
     "name": "stderr",
     "output_type": "stream",
     "text": [
      "2021-10-05 21:42:18.034466: I tensorflow/stream_executor/cuda/cuda_gpu_executor.cc:937] successful NUMA node read from SysFS had negative value (-1), but there must be at least one NUMA node, so returning NUMA node zero\n",
      "2021-10-05 21:42:18.186718: I tensorflow/stream_executor/cuda/cuda_gpu_executor.cc:937] successful NUMA node read from SysFS had negative value (-1), but there must be at least one NUMA node, so returning NUMA node zero\n",
      "2021-10-05 21:42:18.187641: I tensorflow/stream_executor/cuda/cuda_gpu_executor.cc:937] successful NUMA node read from SysFS had negative value (-1), but there must be at least one NUMA node, so returning NUMA node zero\n",
      "2021-10-05 21:42:18.189003: I tensorflow/core/platform/cpu_feature_guard.cc:142] This TensorFlow binary is optimized with oneAPI Deep Neural Network Library (oneDNN) to use the following CPU instructions in performance-critical operations:  AVX2 FMA\n",
      "To enable them in other operations, rebuild TensorFlow with the appropriate compiler flags.\n",
      "2021-10-05 21:42:18.189539: I tensorflow/stream_executor/cuda/cuda_gpu_executor.cc:937] successful NUMA node read from SysFS had negative value (-1), but there must be at least one NUMA node, so returning NUMA node zero\n",
      "2021-10-05 21:42:18.190400: I tensorflow/stream_executor/cuda/cuda_gpu_executor.cc:937] successful NUMA node read from SysFS had negative value (-1), but there must be at least one NUMA node, so returning NUMA node zero\n",
      "2021-10-05 21:42:18.191246: I tensorflow/stream_executor/cuda/cuda_gpu_executor.cc:937] successful NUMA node read from SysFS had negative value (-1), but there must be at least one NUMA node, so returning NUMA node zero\n",
      "2021-10-05 21:42:20.661118: I tensorflow/stream_executor/cuda/cuda_gpu_executor.cc:937] successful NUMA node read from SysFS had negative value (-1), but there must be at least one NUMA node, so returning NUMA node zero\n",
      "2021-10-05 21:42:20.662047: I tensorflow/stream_executor/cuda/cuda_gpu_executor.cc:937] successful NUMA node read from SysFS had negative value (-1), but there must be at least one NUMA node, so returning NUMA node zero\n",
      "2021-10-05 21:42:20.662848: I tensorflow/stream_executor/cuda/cuda_gpu_executor.cc:937] successful NUMA node read from SysFS had negative value (-1), but there must be at least one NUMA node, so returning NUMA node zero\n",
      "2021-10-05 21:42:20.663576: I tensorflow/core/common_runtime/gpu/gpu_device.cc:1510] Created device /job:localhost/replica:0/task:0/device:GPU:0 with 10819 MB memory:  -> device: 0, name: Tesla K80, pci bus id: 0000:00:04.0, compute capability: 3.7\n",
      "2021-10-05 21:42:20.759016: I tensorflow/compiler/mlir/mlir_graph_optimization_pass.cc:185] None of the MLIR Optimization Passes are enabled (registered 2)\n"
     ]
    }
   ],
   "source": [
    "model_url = 'http://download.tensorflow.org/models/object_detection/faster_rcnn_resnet50_coco_2018_01_28.tar.gz'\n",
    "base_url = os.path.dirname(model_url)+\"/\"\n",
    "model_file = os.path.basename(model_url)\n",
    "model_name = os.path.splitext(os.path.splitext(model_file)[0])[0]\n",
    "model_dir = tf.keras.utils.get_file(fname=model_name, origin=base_url + model_file, untar=True)\n",
    "model_dir = pathlib.Path(model_dir)/\"saved_model\"\n",
    "model = tf.saved_model.load(str(model_dir))\n",
    "model = model.signatures['serving_default']"
   ]
  },
  {
   "cell_type": "code",
   "execution_count": 14,
   "metadata": {},
   "outputs": [],
   "source": [
    "CLASS_LABELS = {1: \"person\", 2: \"bicycle\", 3: \"car\", 4: \"motorcycle\", 5: \"airplane\", 6: \"bus\", 7: \"train\", 8: \"truck\", 9: \"boat\", 10: \"traffic light\", 11: \"fire hydrant\", 13: \"stop sign\", 14: \"parking meter\", 15: \"bench\", 16: \"bird\", 17: \"cat\", 18: \"dog\", 19: \"horse\", 20: \"sheep\", 21: \"cow\", 22: \"elephant\", 23: \"bear\", 24: \"zebra\", 25: \"giraffe\", 27: \"backpack\", 28: \"umbrella\", 31: \"handbag\", 32: \"tie\", 33: \"suitcase\", 34: \"frisbee\", 35: \"skis\", 36: \"snowboard\", 37: \"sports ball\", 38: \"kite\", 39: \"baseball bat\", 40: \"baseball glove\", 41: \"skateboard\", 42: \"surfboard\", 43: \"tennis racket\", 44: \"bottle\", 46: \"wine glass\", 47: \"cup\", 48: \"fork\", 49: \"knife\", 50: \"spoon\", 51: \"bowl\", 52: \"banana\", 53: \"apple\", 54: \"sandwich\", 55: \"orange\", 56: \"broccoli\", 57: \"carrot\", 58: \"hot dog\", 59: \"pizza\", 60: \"donut\", 61: \"cake\", 62: \"chair\", 63: \"couch\", 64: \"potted plant\", 65: \"bed\", 67: \"dining table\", 70: \"toilet\", 72: \"tv\", 73: \"laptop\", 74: \"mouse\", 75: \"remote\", 76: \"keyboard\", 77: \"cell phone\", 78: \"microwave\", 79: \"oven\", 80: \"toaster\", 81: \"sink\", 82: \"refrigerator\", 84: \"book\", 85: \"clock\", 86: \"vase\", 87: \"scissors\", 88: \"teddy bear\", 89: \"hair drier\", 90: \"toothbrush\"}"
   ]
  },
  {
   "cell_type": "code",
   "execution_count": 15,
   "metadata": {},
   "outputs": [],
   "source": [
    "def detect_objects(image):\n",
    "    img = Image.open(image)\n",
    "    input_tensor = tf.convert_to_tensor(img)\n",
    "    input_tensor = input_tensor[tf.newaxis,...]\n",
    "    output_dict = model(input_tensor)\n",
    "    num_detections = int(output_dict.pop('num_detections'))\n",
    "    output_dict = {key:value[0, :num_detections].numpy() for key,value in output_dict.items()}\n",
    "    classes = output_dict['detection_classes'].astype(np.int64)\n",
    "    class_names = [None] * len(classes)\n",
    "    for i in range(len(classes)):\n",
    "        class_names[i]=CLASS_LABELS[classes[i]]\n",
    "    output = Counter(class_names)\n",
    "    #wandb.log({'Detections per Image': num_detections})\n",
    "    return {'Objects Detected':output, 'Number of Detections': num_detections}"
   ]
  },
  {
   "cell_type": "code",
   "execution_count": 16,
   "metadata": {},
   "outputs": [],
   "source": [
    "def detect_file(folder_name, extension):\n",
    "    detect_list = []\n",
    "    for file in sorted(glob.glob(f'{folder_name}/*.{extension}')):\n",
    "        print(f'Detecting on Image: {file}', end = '\\r')\n",
    "        output = {'Frame': file}\n",
    "        output.update(detect_objects(file))\n",
    "        detect_list.append(output)\n",
    "    return {'Classification Information': detect_list}"
   ]
  },
  {
   "cell_type": "markdown",
   "metadata": {
    "jp-MarkdownHeadingCollapsed": true,
    "tags": []
   },
   "source": [
    "# Full Video Analysis and Upload"
   ]
  },
  {
   "cell_type": "code",
   "execution_count": 17,
   "metadata": {},
   "outputs": [],
   "source": [
    "def clean_unlabeled_video(video_name, bucket_location, extension, upload_frames = False):\n",
    "    folder_name = video_name\n",
    "    yaml_val = {'Video': f'{video_name}.{extension}'}\n",
    "    download_video(video_name, extension, bucket_location, folder_name)\n",
    "    frames_folder = f'{video_name}_frames'\n",
    "    split_video_frames(video_name, extension, folder_name, frames_folder)\n",
    "    yaml_val.update(remove_blurry_images(frames_folder, 'png'))\n",
    "    yaml_val.update(remove_duplicates(frames_folder, 'png'))\n",
    "    yaml_val.update(detect_file(frames_folder, 'png'))\n",
    "    remaining_frames = sorted(glob.glob(f'{frames_folder}/*.{extension}'))\n",
    "    yaml_val.update({'Clean Frames': remaining_frames})\n",
    "    f = open(f'{video_name}.yaml', \"w\")\n",
    "    yaml.dump(yaml_val, f, default_flow_style=False)\n",
    "    f.close()\n",
    "    # Upload yaml\n",
    "    blob = bucket.blob(f'{video_name}.yaml')\n",
    "    blob.upload_from_filename(f'{video_name}.yaml')\n",
    "    if upload_frames == True:\n",
    "        upload_frames(frame_folder, 'png')\n",
    "    shutil.rmtree(folder_name)\n",
    "    shutil.rmtree(frames_folder)"
   ]
  },
  {
   "cell_type": "markdown",
   "metadata": {},
   "source": [
    "# Image Sequence Analysis"
   ]
  },
  {
   "cell_type": "markdown",
   "metadata": {
    "tags": []
   },
   "source": [
    "## Download Images"
   ]
  },
  {
   "cell_type": "code",
   "execution_count": 18,
   "metadata": {},
   "outputs": [],
   "source": [
    "def download_images(folder_name):\n",
    "    print(\"Checking if folder already downloaded\", end=\"\\r\")\n",
    "    #if os.path.exists(folder_name):\n",
    "    #    print(\"Folder \" + folder_name + \" already downloaded                                                     \")\n",
    "    #    return\n",
    "    print(f'Downloading: {folder_name}                               ')\n",
    "    os.makedirs(str(folder_name)+'/images', exist_ok=True)\n",
    "    os.makedirs(str(folder_name)+'/labels', exist_ok=True)\n",
    "    blobs = storage_client.list_blobs(location, prefix = folder_name)\n",
    "    for blob in blobs:\n",
    "        print(f'Downloading: {blob.name}                           ', end = '\\r')\n",
    "        try:\n",
    "            blob.download_to_filename(blob.name) \n",
    "        except:\n",
    "            print(f'{blob.name} failed to download, skipping')\n",
    "    print(f'Downloading {folder_name} complete.                                 ')"
   ]
  },
  {
   "cell_type": "markdown",
   "metadata": {
    "tags": []
   },
   "source": [
    "## KITTI Label Workflow"
   ]
  },
  {
   "cell_type": "code",
   "execution_count": null,
   "metadata": {
    "tags": []
   },
   "outputs": [],
   "source": [
    "def kitti_label_check(image_dir, label_dir, image_extension, label_extension):\n",
    "    detect_list = []\n",
    "    for image_file in sorted(glob.glob(f'{image_dir}/*.{image_extension}')):\n",
    "        print(f'Detecting on Image: {image_file}', end = '\\r')\n",
    "        output = {'Frame': image_file}\n",
    "        detections = detect_objects(image_file)\n",
    "        \n",
    "        fol_len = len(image_dir)\n",
    "        ext_len = len(image_extension)+1\n",
    "        label_file = f'{label_dir}{image_file[fol_len:-ext_len]}.{label_extension}'\n",
    "        print(f'Reading GT File: {label_file}              ', end = '\\r')\n",
    "        \n",
    "        label = pd.read_csv(label_file,delim_whitespace=True,header = None)\n",
    "        label.columns = ['Object', 'Trunc', 'Occ', 'Alpha', 'min_x', 'min_y', 'max_x', 'max_y', 'dim1', 'dim2', 'dim3', 'loc1', 'loc2', 'loc3', 'rot_y']\n",
    "        \n",
    "        label = label.drop(columns=['Alpha', 'dim1', 'dim2', 'dim3', 'loc1', 'loc2', 'loc3', 'rot_y'])\n",
    "        \n",
    "        gt_detections = label['Object'].tolist()\n",
    "        gt_output = Counter(gt_detections)\n",
    "        \n",
    "        vehicles = gt_output['Car'] + gt_output['Van'] + gt_output['Truck']\n",
    "        people =  gt_output['Pedestrian'] + gt_output['Person_sitting'] + gt_output['Cyclist']\n",
    "        urban_vehicles = gt_output['Tram']\n",
    "        \n",
    "        if urban_vehicles > 0:\n",
    "            if vehicles > 0 or people > 0:\n",
    "                gt_classification = 'City'\n",
    "            else:\n",
    "                gt_classification = 'Unknown'\n",
    "        else:\n",
    "            if vehicles == 0 and people > 0:\n",
    "                gt_classification = 'Pedestrian Traffic'\n",
    "            elif vehicles >= 2 and people == 0:\n",
    "                gt_classification = 'Freeway'\n",
    "            elif vehicles < 2 and people < 3:\n",
    "                gt_classification = 'Rural'\n",
    "            elif vehicles >= 2 and people > 0:\n",
    "                gt_classification = 'City'\n",
    "            else:\n",
    "                gt_classification = 'Unknown'\n",
    "        \n",
    "        gt_detection_difference = detections['Objects Detected']-gt_output\n",
    "        gt_total_labels = sum(gt_output.values())\n",
    "        \n",
    "        ground_truth = {'GT Classification': gt_classification, 'GT Objects': dict(gt_output), 'Number of GT Labels': gt_total_labels, 'Difference between Detections and GT': dict(gt_detection_difference)}\n",
    "        \n",
    "        detections['Objects Detected'] = dict(detections['Objects Detected'])\n",
    "        \n",
    "        output.update(detections)\n",
    "        output.update(ground_truth)\n",
    "        \n",
    "        detect_list.append(output)\n",
    "    \n",
    "    sequence_classification = Counter(output['GT Classification']).most_common(1)\n",
    "    \n",
    "    print('Label Check Completed')\n",
    "    return {'Sequence Classification': sequence_classification, 'Classification Information': detect_list}"
   ]
  },
  {
   "cell_type": "markdown",
   "metadata": {},
   "source": [
    "## KITTI Sequential Label Workflow"
   ]
  },
  {
   "cell_type": "code",
   "execution_count": null,
   "metadata": {
    "tags": []
   },
   "outputs": [],
   "source": [
    "def kitti_sequence_label_check(image_dir, label_file, image_extension, label_extension):\n",
    "    detect_list = []\n",
    "    \n",
    "    # Import Label File\n",
    "    label_file = f'{label_file}.{label_extension}'\n",
    "    print(f'Reading GT File: {label_file}              ', end = '\\r')\n",
    "    labels = pd.read_csv(label_file,delim_whitespace=True,header = None)\n",
    "    labels.columns = ['Frame', 'Track_ID', 'Object', 'Trunc', 'Occ', 'Alpha', 'min_x', 'min_y', 'max_x', 'max_y', 'dim1', 'dim2', 'dim3', 'loc1', 'loc2', 'loc3', 'rot_y']\n",
    "    labels = labels.drop(columns=['Track_ID', 'Alpha', 'dim1', 'dim2', 'dim3', 'loc1', 'loc2', 'loc3', 'rot_y'])\n",
    "    \n",
    "    for image_file in sorted(glob.glob(f'{image_dir}/*.{image_extension}')):\n",
    "        print(f'Detecting on Image: {image_file}', end = '\\r')\n",
    "        output = {'Frame': image_file}\n",
    "        detections = detect_objects(image_file)\n",
    "        \n",
    "        frame_num = int(re.search(r'\\d+', os.path.basename(image_file)).group(0))\n",
    "        frame_label = labels.loc[labels['Frame'] == frame_num]\n",
    "        \n",
    "        gt_detections = frame_label['Object'].tolist()\n",
    "        gt_output = Counter(gt_detections)\n",
    "        \n",
    "        vehicles = gt_output['Car'] + gt_output['Van'] + gt_output['Truck']\n",
    "        people =  gt_output['Pedestrian'] + gt_output['Person_sitting'] + gt_output['Cyclist']\n",
    "        urban_vehicles = gt_output['Tram']\n",
    "        \n",
    "        if urban_vehicles > 0:\n",
    "            if vehicles > 0 or people > 0:\n",
    "                gt_classification = 'City'\n",
    "            else:\n",
    "                gt_classification = 'Unknown'\n",
    "        else:\n",
    "            if vehicles == 0 and people > 0:\n",
    "                gt_classification = 'Pedestrian Traffic'\n",
    "            elif vehicles >= 2 and people == 0:\n",
    "                gt_classification = 'Freeway'\n",
    "            elif vehicles < 2 and people < 3:\n",
    "                gt_classification = 'Rural'\n",
    "            elif vehicles >= 2 and people > 0:\n",
    "                gt_classification = 'City'\n",
    "            else:\n",
    "                gt_classification = 'Unknown'\n",
    "        \n",
    "        gt_detection_difference = detections['Objects Detected']-gt_output\n",
    "        gt_total_labels = sum(gt_output.values())\n",
    "        \n",
    "        ground_truth = {'GT Classification': gt_classification, 'GT Objects': dict(gt_output), 'Number of GT Labels': gt_total_labels, 'Difference between Detections and GT': dict(gt_detection_difference)}\n",
    "        \n",
    "        detections['Objects Detected'] = dict(detections['Objects Detected'])\n",
    "        \n",
    "        output.update(detections)\n",
    "        output.update(ground_truth)\n",
    "        \n",
    "        \n",
    "        detect_list.append(output)\n",
    "    \n",
    "    sequence_classification = Counter(output['GT Classification']).most_common(1)\n",
    "    \n",
    "    print('Label Check Completed')\n",
    "    return {'Sequence Classification': sequence_classification, 'Classification Information': detect_list}"
   ]
  },
  {
   "cell_type": "markdown",
   "metadata": {
    "tags": []
   },
   "source": [
    "## Images Workflow"
   ]
  },
  {
   "cell_type": "code",
   "execution_count": 39,
   "metadata": {
    "tags": []
   },
   "outputs": [],
   "source": [
    "def clean_images_labeled(project_folder, image_folder, image_extension, label_folder, label_extension, dataset_format, upload_frames=False):\n",
    "    current_formats = ['KITTI', 'OCT', 'JAAD', 'KITTI_sequence'] # Current List of supported dataset formats\n",
    "    if dataset_format not in current_formats: # Check to make sure dataset_format is supported\n",
    "        print(f'dataset_format dataset format not supported. Cancelling')\n",
    "        return False\n",
    "    yaml_val = {'Image Folder': f'{project_folder}/{image_folder}', 'Label Folder': f'{project_folder}/{label_folder}'}\n",
    "    download_images_and_labels(project_folder, image_folder, label_folder)\n",
    "    image_dir = f'{project_folder}/{image_folder}'\n",
    "    label_dir = f'{project_folder}/{label_folder}'\n",
    "    yaml_val.update(remove_blurry_images(image_dir, image_extension))\n",
    "    yaml_val.update(remove_duplicates(image_dir, image_extension))\n",
    "    if dataset_format == 'JAAD':\n",
    "        yaml_val.update(detect_file(image_dir, image_extension))\n",
    "    elif dataset_format == 'KITTI':\n",
    "        yaml_val.update(kitti_label_check(image_dir, label_dir, image_extension, label_extension))\n",
    "    elif dataset_format == 'OCT':\n",
    "        yaml_val.update(oct_label_check(image_dir, label_dir, image_extension, label_extension))\n",
    "    elif dataset_format == 'KITTI_sequence':\n",
    "        yaml_val.update(kitti_sequence_label_check(image_dir, label_dir, image_extension, label_extension))\n",
    "    remaining_frames = sorted(glob.glob(f'{image_dir}/*.{image_extension}'))\n",
    "    yaml_val.update({'Clean Frames': remaining_frames})\n",
    "    \n",
    "    image_folder_unslashed = image_folder.replace('/', '-')\n",
    "    yaml_dir = f'{project_folder}_{image_folder_unslashed}.yaml'\n",
    "    f = open(yaml_dir, \"w\")\n",
    "    yaml.dump(yaml_val, f, default_flow_style=False)\n",
    "    f.close()\n",
    "    print(f'YAML File: {yaml_dir} created')\n",
    "    # Upload yaml\n",
    "    blob = bucket.blob(yaml_dir)\n",
    "    blob.upload_from_filename(yaml_dir)\n",
    "    print(f'YAML File: {yaml_dir} uploaded to gs://{project_folder}/{yaml_dir}')\n",
    "    if upload_frames == True:\n",
    "        upload_frames(project_folder, extension)\n",
    "    shutil.rmtree(project_folder)\n",
    "    print('Process Complete')\n",
    "    return True"
   ]
  },
  {
   "cell_type": "markdown",
   "metadata": {
    "tags": []
   },
   "source": [
    "### Old Version"
   ]
  },
  {
   "cell_type": "code",
   "execution_count": 22,
   "metadata": {},
   "outputs": [],
   "source": [
    "def clean_images(folder_name, extension, upload_frames=False):\n",
    "    folder_name = str(folder_name)\n",
    "    yaml_val = {'Folder': folder_name}\n",
    "    download_images(folder_name)\n",
    "    image_folder = f'{folder_name}/images'\n",
    "    yaml_val.update(remove_blurry_images(image_folder, extension))\n",
    "    yaml_val.update(remove_duplicates(image_folder, extension))\n",
    "    yaml_val.update(detect_file(image_folder, extension))\n",
    "    f = open(f'{folder_name}.yaml', \"w\")\n",
    "    yaml.dump(yaml_val, f, default_flow_style=False)\n",
    "    f.close()\n",
    "    print(f'YAML File: {folder_name}.yaml created')\n",
    "    # Upload yaml\n",
    "    blob = bucket.blob(f'{folder_name}.yaml')\n",
    "    blob.upload_from_filename(f'{folder_name}.yaml')\n",
    "    print(f'YAML File: {folder_name}.yaml uploaded to gs://{location}/{folder_name}.yaml')\n",
    "    if upload_frames == True:\n",
    "        upload_frames(folder_name, extension)\n",
    "    shutil.rmtree(folder_name)"
   ]
  },
  {
   "cell_type": "markdown",
   "metadata": {},
   "source": [
    "### Checking Script"
   ]
  },
  {
   "cell_type": "code",
   "execution_count": null,
   "metadata": {},
   "outputs": [
    {
     "name": "stdout",
     "output_type": "stream",
     "text": [
      "Downloading project folder: kitti_sequential.                       \n",
      "Downloading Image Folder: kitti_sequential/images/training/image_02/0000                       \n",
      "Downloading Label Folder: kitti_sequential/labels/training/label_02/0000                       \n",
      "Downloading project folder: kitti_sequential complete.                                \n",
      "Calculating Average Blurriness\n",
      "Median Blur (Laplacian Variance): 665.005707949245853.png             \n",
      "Blur Cutoff (Laplacian Variance): 631.7554225517835\n",
      "Removing Noisy Images\n",
      "Done Checking Frames, 72 frames removed.                 \n",
      "Removing Duplicate and Highly Similar Frames\n",
      "Calculating Frame Similarities\n",
      "Similarity Cutoff (OpenCV Compare Images): 0.95ning/image_02/0000/000152.png and kitti_sequential/images/training/image_02/0000/000153.png: 0.53423207863272665\n",
      "Removing Duplicate Images\n",
      "Done Checking Frames, 0 frames removed.\n",
      "Label Check Completeditti_sequential/images/training/image_02/0000/000153.png    \n",
      "YAML File: kitti_sequential_images-training-image_02-0000.yaml created\n",
      "YAML File: kitti_sequential_images-training-image_02-0000.yaml uploaded to gs://kitti_sequential/kitti_sequential_images-training-image_02-0000.yaml\n",
      "Process Complete\n",
      "Downloading project folder: kitti_sequential.                       \n",
      "Downloading Image Folder: kitti_sequential/images/training/image_02/0001                       \n",
      "Downloading Label Folder: kitti_sequential/labels/training/label_02/0001                       \n",
      "Downloading project folder: kitti_sequential complete.                                \n",
      "Calculating Average Blurriness\n",
      "Median Blur (Laplacian Variance): 699.900601768629646.png             \n",
      "Blur Cutoff (Laplacian Variance): 664.9055716801981\n",
      "Removing Noisy Images\n",
      "Done Checking Frames, 205 frames removed.                 \n",
      "Removing Duplicate and Highly Similar Frames\n",
      "Calculating Frame Similarities\n",
      "Similarity Cutoff (OpenCV Compare Images): 0.95ning/image_02/0001/000445.png and kitti_sequential/images/training/image_02/0001/000446.png: 0.98995472631518827\n",
      "Removing Duplicate Images\n",
      "Done Checking Frames, 1 frames removed.\n",
      "Label Check Completeditti_sequential/images/training/image_02/0001/000446.png    \n",
      "YAML File: kitti_sequential_images-training-image_02-0001.yaml created\n",
      "YAML File: kitti_sequential_images-training-image_02-0001.yaml uploaded to gs://kitti_sequential/kitti_sequential_images-training-image_02-0001.yaml\n",
      "Process Complete\n",
      "Downloading project folder: kitti_sequential.                       \n",
      "Downloading Image Folder: kitti_sequential/images/training/image_02/0002                       \n",
      "Downloading Label Folder: kitti_sequential/labels/training/label_02/0002                       \n",
      "Downloading project folder: kitti_sequential complete.                                \n",
      "Calculating Average Blurriness\n",
      "Median Blur (Laplacian Variance): 680.011947758648332.png             \n",
      "Blur Cutoff (Laplacian Variance): 646.0113503707158\n",
      "Removing Noisy Images\n",
      "Done Checking Frames, 86 frames removed.                 \n",
      "Removing Duplicate and Highly Similar Frames\n",
      "Calculating Frame Similarities\n",
      "Similarity Cutoff (OpenCV Compare Images): 0.95ning/image_02/0002/000231.png and kitti_sequential/images/training/image_02/0002/000232.png: 0.98691761416502743\n",
      "Removing Duplicate Images\n",
      "Done Checking Frames, 0 frames removed.\n",
      "Label Check Completeditti_sequential/images/training/image_02/0002/000232.png    \n",
      "YAML File: kitti_sequential_images-training-image_02-0002.yaml created\n",
      "YAML File: kitti_sequential_images-training-image_02-0002.yaml uploaded to gs://kitti_sequential/kitti_sequential_images-training-image_02-0002.yaml\n",
      "Process Complete\n",
      "Downloading project folder: kitti_sequential.                       \n",
      "Downloading Image Folder: kitti_sequential/images/training/image_02/0003                       \n",
      "Downloading Label Folder: kitti_sequential/labels/training/label_02/0003                       \n",
      "Downloading project folder: kitti_sequential complete.                                \n",
      "Calculating Average Blurriness\n",
      "Median Blur (Laplacian Variance): 1008.08222011949973.png             \n",
      "Blur Cutoff (Laplacian Variance): 957.6781091135247\n",
      "Removing Noisy Images\n",
      "Done Checking Frames, 61 frames removed.                 \n",
      "Removing Duplicate and Highly Similar Frames\n",
      "Calculating Frame Similarities\n",
      "Similarity Cutoff (OpenCV Compare Images): 0.95ning/image_02/0003/000142.png and kitti_sequential/images/training/image_02/0003/000143.png: 0.25798460937367734\n",
      "Removing Duplicate Images\n",
      "Done Checking Frames, 0 frames removed.\n",
      "Label Check Completeditti_sequential/images/training/image_02/0003/000143.png    \n",
      "YAML File: kitti_sequential_images-training-image_02-0003.yaml created\n",
      "YAML File: kitti_sequential_images-training-image_02-0003.yaml uploaded to gs://kitti_sequential/kitti_sequential_images-training-image_02-0003.yaml\n",
      "Process Complete\n",
      "Downloading project folder: kitti_sequential.                       \n",
      "Downloading Image Folder: kitti_sequential/images/training/image_02/0004                       \n",
      "Downloading Label Folder: kitti_sequential/labels/training/label_02/0004                       \n",
      "Downloading project folder: kitti_sequential complete.                                \n",
      "Calculating Average Blurriness\n",
      "Median Blur (Laplacian Variance): 524.235377177818513.png             \n",
      "Blur Cutoff (Laplacian Variance): 498.02360831892753\n",
      "Removing Noisy Images\n",
      "Done Checking Frames, 113 frames removed.                 \n",
      "Removing Duplicate and Highly Similar Frames\n",
      "Calculating Frame Similarities\n",
      "Similarity Cutoff (OpenCV Compare Images): 0.95ning/image_02/0004/000312.png and kitti_sequential/images/training/image_02/0004/000313.png: 0.52731628465317776\n",
      "Removing Duplicate Images\n",
      "Done Checking Frames, 0 frames removed.\n",
      "Label Check Completeditti_sequential/images/training/image_02/0004/000313.png    \n",
      "YAML File: kitti_sequential_images-training-image_02-0004.yaml created\n",
      "YAML File: kitti_sequential_images-training-image_02-0004.yaml uploaded to gs://kitti_sequential/kitti_sequential_images-training-image_02-0004.yaml\n",
      "Process Complete\n",
      "Downloading project folder: kitti_sequential.                       \n",
      "Downloading Image Folder: kitti_sequential/images/training/image_02/0005                       \n",
      "Downloading Label Folder: kitti_sequential/labels/training/label_02/0005                       \n",
      "Downloading project folder: kitti_sequential complete.                                \n",
      "Calculating Average Blurriness\n",
      "Median Blur (Laplacian Variance): 427.728161427483196.png             \n",
      "Blur Cutoff (Laplacian Variance): 406.34175335610894\n",
      "Removing Noisy Images\n",
      "Done Checking Frames, 102 frames removed.                 \n",
      "Removing Duplicate and Highly Similar Frames\n",
      "Calculating Frame Similarities\n",
      "Similarity Cutoff (OpenCV Compare Images): 0.95ning/image_02/0005/000295.png and kitti_sequential/images/training/image_02/0005/000296.png: 0.56594704378950885\n",
      "Removing Duplicate Images\n",
      "Done Checking Frames, 0 frames removed.\n",
      "Label Check Completeditti_sequential/images/training/image_02/0005/000296.png    \n",
      "YAML File: kitti_sequential_images-training-image_02-0005.yaml created\n",
      "YAML File: kitti_sequential_images-training-image_02-0005.yaml uploaded to gs://kitti_sequential/kitti_sequential_images-training-image_02-0005.yaml\n",
      "Process Complete\n",
      "Downloading project folder: kitti_sequential.                       \n",
      "Downloading Image Folder: kitti_sequential/images/training/image_02/0006                       \n",
      "Downloading Label Folder: kitti_sequential/labels/training/label_02/0006                       \n",
      "Downloading project folder: kitti_sequential complete.                                \n",
      "Calculating Average Blurriness\n",
      "Median Blur (Laplacian Variance): 537.355270602481469.png             \n",
      "Blur Cutoff (Laplacian Variance): 510.4875070723573\n",
      "Removing Noisy Images\n",
      "Done Checking Frames, 46 frames removed.                 \n",
      "Removing Duplicate and Highly Similar Frames\n",
      "Calculating Frame Similarities\n",
      "Similarity Cutoff (OpenCV Compare Images): 0.95187530319115110006/000268.png and kitti_sequential/images/training/image_02/0006/000269.png: 0.38380220138542746\n",
      "Removing Duplicate Images\n",
      "Done Checking Frames, 0 frames removed.\n",
      "Label Check Completeditti_sequential/images/training/image_02/0006/000269.png    \n",
      "YAML File: kitti_sequential_images-training-image_02-0006.yaml created\n",
      "YAML File: kitti_sequential_images-training-image_02-0006.yaml uploaded to gs://kitti_sequential/kitti_sequential_images-training-image_02-0006.yaml\n",
      "Process Complete\n",
      "Downloading project folder: kitti_sequential.                       \n",
      "Downloading Image Folder: kitti_sequential/images/training/image_02/0007                       \n",
      "Downloading Label Folder: kitti_sequential/labels/training/label_02/0007                       \n",
      "Downloading project folder: kitti_sequential complete.                                \n",
      "Calculating Average Blurriness\n",
      "Median Blur (Laplacian Variance): 886.242370337042899.png             \n",
      "Blur Cutoff (Laplacian Variance): 841.9302518201906\n",
      "Removing Noisy Images\n",
      "Done Checking Frames, 322 frames removed.                 \n",
      "Removing Duplicate and Highly Similar Frames\n",
      "Calculating Frame Similarities\n",
      "Similarity Cutoff (OpenCV Compare Images): 0.95ning/image_02/0007/000798.png and kitti_sequential/images/training/image_02/0007/000799.png: 0.31149062987335596\n",
      "Removing Duplicate Images\n",
      "Done Checking Frames, 0 frames removed.\n",
      "Label Check Completeditti_sequential/images/training/image_02/0007/000799.png    \n",
      "YAML File: kitti_sequential_images-training-image_02-0007.yaml created\n",
      "YAML File: kitti_sequential_images-training-image_02-0007.yaml uploaded to gs://kitti_sequential/kitti_sequential_images-training-image_02-0007.yaml\n",
      "Process Complete\n",
      "Downloading project folder: kitti_sequential.                       \n",
      "Downloading Image Folder: kitti_sequential/images/training/image_02/0008                       \n",
      "Downloading Label Folder: kitti_sequential/labels/training/label_02/0008                       \n",
      "Downloading project folder: kitti_sequential complete.                                \n",
      "Calculating Average Blurriness\n",
      "Median Blur (Laplacian Variance): 519.892739887509789.png             \n",
      "Blur Cutoff (Laplacian Variance): 493.8981028931342\n",
      "Removing Noisy Images\n",
      "Done Checking Frames, 117 frames removed.                 \n",
      "Removing Duplicate and Highly Similar Frames\n",
      "Calculating Frame Similarities\n",
      "Similarity Cutoff (OpenCV Compare Images): 0.95ning/image_02/0008/000388.png and kitti_sequential/images/training/image_02/0008/000389.png: 0.54823495698179375\n",
      "Removing Duplicate Images\n",
      "Done Checking Frames, 0 frames removed.\n",
      "Label Check Completeditti_sequential/images/training/image_02/0008/000389.png    \n",
      "YAML File: kitti_sequential_images-training-image_02-0008.yaml created\n",
      "YAML File: kitti_sequential_images-training-image_02-0008.yaml uploaded to gs://kitti_sequential/kitti_sequential_images-training-image_02-0008.yaml\n",
      "Process Complete\n",
      "Downloading project folder: kitti_sequential.                       \n",
      "Downloading Image Folder: kitti_sequential/images/training/image_02/0009                       \n",
      "Downloading Label Folder: kitti_sequential/labels/training/label_02/0009                       \n",
      "Downloading project folder: kitti_sequential complete.                                \n",
      "Calculating Average Blurriness\n",
      "Median Blur (Laplacian Variance): 566.949260562025402.png             \n",
      "Blur Cutoff (Laplacian Variance): 538.6017975339241\n",
      "Removing Noisy Images\n",
      "Done Checking Frames, 330 frames removed.                 \n",
      "Removing Duplicate and Highly Similar Frames\n",
      "Calculating Frame Similarities\n",
      "Similarity Cutoff (OpenCV Compare Images): 0.95ning/image_02/0009/000801.png and kitti_sequential/images/training/image_02/0009/000802.png: 0.73637698802012143\n",
      "Removing Duplicate Images\n",
      "Done Checking Frames, 0 frames removed.\n",
      "Label Check Completeditti_sequential/images/training/image_02/0009/000802.png    \n",
      "YAML File: kitti_sequential_images-training-image_02-0009.yaml created\n",
      "YAML File: kitti_sequential_images-training-image_02-0009.yaml uploaded to gs://kitti_sequential/kitti_sequential_images-training-image_02-0009.yaml\n",
      "Process Complete\n",
      "Downloading project folder: kitti_sequential.                       \n",
      "Downloading Image Folder: kitti_sequential/images/training/image_02/0010                       \n",
      "Downloading Label Folder: kitti_sequential/labels/training/label_02/0010                       \n",
      "Downloading project folder: kitti_sequential complete.                                \n",
      "Calculating Average Blurriness\n",
      "Median Blur (Laplacian Variance): 777.164575802934893.png             \n",
      "Blur Cutoff (Laplacian Variance): 738.306347012788\n",
      "Removing Noisy Images\n",
      "Done Checking Frames, 127 frames removed.                 \n",
      "Removing Duplicate and Highly Similar Frames\n",
      "Calculating Frame Similarities\n",
      "Similarity Cutoff (OpenCV Compare Images): 0.95ning/image_02/0010/000292.png and kitti_sequential/images/training/image_02/0010/000293.png: 0.56071363790350357\n",
      "Removing Duplicate Images\n",
      "Done Checking Frames, 0 frames removed.\n",
      "Label Check Completeditti_sequential/images/training/image_02/0010/000293.png    \n",
      "YAML File: kitti_sequential_images-training-image_02-0010.yaml created\n",
      "YAML File: kitti_sequential_images-training-image_02-0010.yaml uploaded to gs://kitti_sequential/kitti_sequential_images-training-image_02-0010.yaml\n",
      "Process Complete\n",
      "Downloading project folder: kitti_sequential.                       \n",
      "Downloading Image Folder: kitti_sequential/images/training/image_02/0011                       \n",
      "Downloading Label Folder: kitti_sequential/labels/training/label_02/0011                       \n",
      "Downloading project folder: kitti_sequential complete.                                \n",
      "Calculating Average Blurriness\n",
      "Median Blur (Laplacian Variance): 701.070228391234372.png             \n",
      "Blur Cutoff (Laplacian Variance): 666.0167169716725\n",
      "Removing Noisy Images\n",
      "Done Checking Frames, 154 frames removed.                 \n",
      "Removing Duplicate and Highly Similar Frames\n",
      "Calculating Frame Similarities\n",
      "Similarity Cutoff (OpenCV Compare Images): 0.95ning/image_02/0011/000371.png and kitti_sequential/images/training/image_02/0011/000372.png: 0.59107762167804944\n",
      "Removing Duplicate Images\n",
      "Done Checking Frames, 0 frames removed.\n",
      "Label Check Completeditti_sequential/images/training/image_02/0011/000372.png    \n",
      "YAML File: kitti_sequential_images-training-image_02-0011.yaml created\n",
      "YAML File: kitti_sequential_images-training-image_02-0011.yaml uploaded to gs://kitti_sequential/kitti_sequential_images-training-image_02-0011.yaml\n",
      "Process Complete\n",
      "Downloading project folder: kitti_sequential.                       \n",
      "Downloading Image Folder: kitti_sequential/images/training/image_02/0012                       \n",
      "Downloading Label Folder: kitti_sequential/labels/training/label_02/0012                       \n",
      "Downloading project folder: kitti_sequential complete.                                \n",
      "Calculating Average Blurriness\n",
      "Median Blur (Laplacian Variance): 520.976746250042077.png             \n",
      "Blur Cutoff (Laplacian Variance): 494.9279089375398\n",
      "Removing Noisy Images\n",
      "Done Checking Frames, 0 frames removed.                 \n",
      "Removing Duplicate and Highly Similar Frames\n",
      "Calculating Frame Similarities\n",
      "Similarity Cutoff (OpenCV Compare Images): 1.03562067180363830012/000076.png and kitti_sequential/images/training/image_02/0012/000077.png: 0.9876850390062754\n",
      "Removing Duplicate Images\n",
      "Done Checking Frames, 0 frames removed.\n",
      "Label Check Completeditti_sequential/images/training/image_02/0012/000077.png    \n",
      "YAML File: kitti_sequential_images-training-image_02-0012.yaml created\n",
      "YAML File: kitti_sequential_images-training-image_02-0012.yaml uploaded to gs://kitti_sequential/kitti_sequential_images-training-image_02-0012.yaml\n",
      "Process Complete\n",
      "Downloading project folder: kitti_sequential.                       \n",
      "Downloading Image Folder: kitti_sequential/images/training/image_02/0013                       \n",
      "Downloading Label Folder: kitti_sequential/labels/training/label_02/0013                       \n",
      "Downloading project folder: kitti_sequential complete.                                \n",
      "Calculating Average Blurriness\n",
      "Median Blur (Laplacian Variance): 641.223909796287939.png             \n",
      "Blur Cutoff (Laplacian Variance): 609.1627143064735\n",
      "Removing Noisy Images\n",
      "Done Checking Frames, 147 frames removed.                 \n",
      "Removing Duplicate and Highly Similar Frames\n",
      "Calculating Frame Similarities\n",
      "Similarity Cutoff (OpenCV Compare Images): 0.95ning/image_02/0013/000338.png and kitti_sequential/images/training/image_02/0013/000339.png: 0.32025177245402753\n",
      "Removing Duplicate Images\n",
      "Done Checking Frames, 0 frames removed.\n",
      "Label Check Completeditti_sequential/images/training/image_02/0013/000339.png    \n",
      "YAML File: kitti_sequential_images-training-image_02-0013.yaml created\n",
      "YAML File: kitti_sequential_images-training-image_02-0013.yaml uploaded to gs://kitti_sequential/kitti_sequential_images-training-image_02-0013.yaml\n",
      "Process Complete\n",
      "Downloading project folder: kitti_sequential.                       \n",
      "Downloading Image Folder: kitti_sequential/images/training/image_02/0014                       \n",
      "Downloading Label Folder: kitti_sequential/labels/training/label_02/0014                       \n",
      "Downloading project folder: kitti_sequential complete.                                \n",
      "Calculating Average Blurriness\n",
      "Median Blur (Laplacian Variance): 867.843633793933505.png             \n",
      "Blur Cutoff (Laplacian Variance): 824.4514521042368\n",
      "Removing Noisy Images\n",
      "Done Checking Frames, 45 frames removed.                 \n",
      "Removing Duplicate and Highly Similar Frames\n",
      "Calculating Frame Similarities\n",
      "Similarity Cutoff (OpenCV Compare Images): 0.95ning/image_02/0014/000104.png and kitti_sequential/images/training/image_02/0014/000105.png: 0.50018664478401827\n",
      "Removing Duplicate Images\n",
      "Done Checking Frames, 0 frames removed.\n",
      "Label Check Completeditti_sequential/images/training/image_02/0014/000105.png    \n",
      "YAML File: kitti_sequential_images-training-image_02-0014.yaml created\n",
      "YAML File: kitti_sequential_images-training-image_02-0014.yaml uploaded to gs://kitti_sequential/kitti_sequential_images-training-image_02-0014.yaml\n",
      "Process Complete\n",
      "Downloading project folder: kitti_sequential.                       \n",
      "Downloading Image Folder: kitti_sequential/images/training/image_02/0015                       \n",
      "Downloading Label Folder: kitti_sequential/labels/training/label_02/0015                       \n",
      "Downloading project folder: kitti_sequential complete.                                \n",
      "Calculating Average Blurriness\n",
      "Median Blur (Laplacian Variance): 526.022691961845375.png             \n",
      "Blur Cutoff (Laplacian Variance): 499.72155736375305\n",
      "Removing Noisy Images\n",
      "Done Checking Frames, 0 frames removed.                 \n",
      "Removing Duplicate and Highly Similar Frames\n",
      "Calculating Frame Similarities\n",
      "Similarity Cutoff (OpenCV Compare Images): 1.02039618846134750015/000374.png and kitti_sequential/images/training/image_02/0015/000375.png: 0.98172562380653344\n",
      "Removing Duplicate Images\n",
      "Done Checking Frames, 0 frames removed.\n",
      "Label Check Completeditti_sequential/images/training/image_02/0015/000375.png    \n",
      "YAML File: kitti_sequential_images-training-image_02-0015.yaml created\n",
      "YAML File: kitti_sequential_images-training-image_02-0015.yaml uploaded to gs://kitti_sequential/kitti_sequential_images-training-image_02-0015.yaml\n",
      "Process Complete\n",
      "Downloading project folder: kitti_sequential.                       \n",
      "Downloading Image Folder: kitti_sequential/images/training/image_02/0016                       \n",
      "Downloading Label Folder: kitti_sequential/labels/training/label_02/0016                       \n",
      "Downloading project folder: kitti_sequential complete.                                \n",
      "Calculating Average Blurriness\n",
      "Median Blur (Laplacian Variance): 775.290315300024908.png             \n",
      "Blur Cutoff (Laplacian Variance): 736.5257995350236\n",
      "Removing Noisy Images\n",
      "Done Checking Frames, 32 frames removed.                 \n",
      "Removing Duplicate and Highly Similar Frames\n",
      "Calculating Frame Similarities\n",
      "Similarity Cutoff (OpenCV Compare Images): 0.960564240678899/0016/000207.png and kitti_sequential/images/training/image_02/0016/000208.png: 0.9588617038665399\n",
      "Removing Duplicate Images\n",
      "Done Checking Frames, 0 frames removed.\n",
      "Label Check Completeditti_sequential/images/training/image_02/0016/000208.png    \n",
      "YAML File: kitti_sequential_images-training-image_02-0016.yaml created\n",
      "YAML File: kitti_sequential_images-training-image_02-0016.yaml uploaded to gs://kitti_sequential/kitti_sequential_images-training-image_02-0016.yaml\n",
      "Process Complete\n",
      "Downloading project folder: kitti_sequential.                       \n",
      "Downloading Image Folder: kitti_sequential/images/training/image_02/0017                       \n",
      "Downloading Label Folder: kitti_sequential/labels/training/label_02/0017                       \n",
      "Downloading project folder: kitti_sequential complete.                                \n",
      "Calculating Average Blurriness\n",
      "Median Blur (Laplacian Variance): 902.251531215817244.png             \n",
      "Blur Cutoff (Laplacian Variance): 857.1389546550263\n",
      "Removing Noisy Images\n",
      "Done Checking Frames, 4 frames removed.                 \n",
      "Removing Duplicate and Highly Similar Frames\n",
      "Calculating Frame Similarities\n",
      "Similarity Cutoff (OpenCV Compare Images): 0.95ning/image_02/0017/000143.png and kitti_sequential/images/training/image_02/0017/000144.png: 0.8797929898902954\n",
      "Removing Duplicate Images\n",
      "Done Checking Frames, 0 frames removed.\n",
      "Label Check Completeditti_sequential/images/training/image_02/0017/000144.png    \n",
      "YAML File: kitti_sequential_images-training-image_02-0017.yaml created\n",
      "YAML File: kitti_sequential_images-training-image_02-0017.yaml uploaded to gs://kitti_sequential/kitti_sequential_images-training-image_02-0017.yaml\n",
      "Process Complete\n",
      "Downloading project folder: kitti_sequential.                       \n",
      "Downloading Image Folder: kitti_sequential/images/training/image_02/0018                       \n",
      "Downloading Label Folder: kitti_sequential/labels/training/label_02/0018                       \n",
      "Downloading project folder: kitti_sequential complete.                                \n",
      "Calculating Average Blurriness\n",
      "Median Blur (Laplacian Variance): 1010.34846064928718.png             \n",
      "Blur Cutoff (Laplacian Variance): 959.8310376168226\n",
      "Removing Noisy Images\n",
      "Done Checking Frames, 63 frames removed.                 \n",
      "Removing Duplicate and Highly Similar Frames\n",
      "Calculating Frame Similarities\n",
      "Similarity Cutoff (OpenCV Compare Images): 0.95ning/image_02/0018/000337.png and kitti_sequential/images/training/image_02/0018/000338.png: 0.63213870325714635\n",
      "Removing Duplicate Images\n",
      "Done Checking Frames, 0 frames removed.\n",
      "Label Check Completeditti_sequential/images/training/image_02/0018/000338.png    \n",
      "YAML File: kitti_sequential_images-training-image_02-0018.yaml created\n",
      "YAML File: kitti_sequential_images-training-image_02-0018.yaml uploaded to gs://kitti_sequential/kitti_sequential_images-training-image_02-0018.yaml\n",
      "Process Complete\n",
      "Downloading project folder: kitti_sequential.                       \n",
      "Downloading Image Folder: kitti_sequential/images/training/image_02/0019                       \n",
      "Downloading Label Folder: kitti_sequential/labels/training/label_02/0019                       \n",
      "Downloading project folder: kitti_sequential complete.                                \n",
      "Calculating Average Blurriness\n",
      "Median Blur (Laplacian Variance): 598.537833154810358.png             \n",
      "Blur Cutoff (Laplacian Variance): 568.6109414970698\n",
      "Removing Noisy Images\n",
      "Done Checking Frames, 388 frames removed.                 \n",
      "Removing Duplicate and Highly Similar Frames\n",
      "Calculating Frame Similarities\n",
      "Similarity Cutoff (OpenCV Compare Images): 0.95ning/image_02/0019/001057.png and kitti_sequential/images/training/image_02/0019/001058.png: 0.85344371767976613\n",
      "Removing Duplicate Images\n",
      "Done Checking Frames, 0 frames removed.\n",
      "Label Check Completeditti_sequential/images/training/image_02/0019/001058.png    \n",
      "YAML File: kitti_sequential_images-training-image_02-0019.yaml created\n",
      "YAML File: kitti_sequential_images-training-image_02-0019.yaml uploaded to gs://kitti_sequential/kitti_sequential_images-training-image_02-0019.yaml\n",
      "Process Complete\n",
      "Downloading project folder: kitti_sequential.                       \n",
      "Downloading Image Folder: kitti_sequential/images/training/image_02/0020                       \n",
      "Downloading Label Folder: kitti_sequential/labels/training/label_02/0020                       \n",
      "Downloading project folder: kitti_sequential complete.                                \n",
      "Calculating Average Blurriness\n",
      "Median Blur (Laplacian Variance): 365.512524873024436.png             \n",
      "Blur Cutoff (Laplacian Variance): 347.2368986293732\n",
      "Removing Noisy Images\n",
      "Done Checking Frames, 272 frames removed.                 \n",
      "Removing Duplicate and Highly Similar Frames\n",
      "Calculating Frame Similarities\n",
      "Similarity Cutoff (OpenCV Compare Images): 0.95ning/image_02/0020/000835.png and kitti_sequential/images/training/image_02/0020/000836.png: 0.98136494156807946\n",
      "Removing Duplicate Images\n",
      "Done Checking Frames, 0 frames removed.\n",
      "Label Check Completeditti_sequential/images/training/image_02/0020/000836.png    \n",
      "YAML File: kitti_sequential_images-training-image_02-0020.yaml created\n",
      "YAML File: kitti_sequential_images-training-image_02-0020.yaml uploaded to gs://kitti_sequential/kitti_sequential_images-training-image_02-0020.yaml\n",
      "Process Complete\n",
      "Downloading project folder: kitti.                       \n",
      "Downloading Image Folder: kitti/images                       \n",
      "Downloading Label Folder: kitti/labels                       \n",
      "Downloading: kitti/labels/002947.txt                       \r"
     ]
    }
   ],
   "source": [
    "clean_images_labeled('kitti_sequential', 'images/training/image_02/0000', 'png', 'labels/training/label_02/0000', 'txt', 'KITTI_sequence')\n",
    "clean_images_labeled('kitti_sequential', 'images/training/image_02/0001', 'png', 'labels/training/label_02/0001', 'txt', 'KITTI_sequence')\n",
    "clean_images_labeled('kitti_sequential', 'images/training/image_02/0002', 'png', 'labels/training/label_02/0002', 'txt', 'KITTI_sequence')\n",
    "clean_images_labeled('kitti_sequential', 'images/training/image_02/0003', 'png', 'labels/training/label_02/0003', 'txt', 'KITTI_sequence')\n",
    "clean_images_labeled('kitti_sequential', 'images/training/image_02/0004', 'png', 'labels/training/label_02/0004', 'txt', 'KITTI_sequence')\n",
    "clean_images_labeled('kitti_sequential', 'images/training/image_02/0005', 'png', 'labels/training/label_02/0005', 'txt', 'KITTI_sequence')\n",
    "clean_images_labeled('kitti_sequential', 'images/training/image_02/0006', 'png', 'labels/training/label_02/0006', 'txt', 'KITTI_sequence')\n",
    "clean_images_labeled('kitti_sequential', 'images/training/image_02/0007', 'png', 'labels/training/label_02/0007', 'txt', 'KITTI_sequence')\n",
    "clean_images_labeled('kitti_sequential', 'images/training/image_02/0008', 'png', 'labels/training/label_02/0008', 'txt', 'KITTI_sequence')\n",
    "clean_images_labeled('kitti_sequential', 'images/training/image_02/0009', 'png', 'labels/training/label_02/0009', 'txt', 'KITTI_sequence')\n",
    "clean_images_labeled('kitti_sequential', 'images/training/image_02/0010', 'png', 'labels/training/label_02/0010', 'txt', 'KITTI_sequence')\n",
    "clean_images_labeled('kitti_sequential', 'images/training/image_02/0011', 'png', 'labels/training/label_02/0011', 'txt', 'KITTI_sequence')\n",
    "clean_images_labeled('kitti_sequential', 'images/training/image_02/0012', 'png', 'labels/training/label_02/0012', 'txt', 'KITTI_sequence')\n",
    "clean_images_labeled('kitti_sequential', 'images/training/image_02/0013', 'png', 'labels/training/label_02/0013', 'txt', 'KITTI_sequence')\n",
    "clean_images_labeled('kitti_sequential', 'images/training/image_02/0014', 'png', 'labels/training/label_02/0014', 'txt', 'KITTI_sequence')\n",
    "clean_images_labeled('kitti_sequential', 'images/training/image_02/0015', 'png', 'labels/training/label_02/0015', 'txt', 'KITTI_sequence')\n",
    "clean_images_labeled('kitti_sequential', 'images/training/image_02/0016', 'png', 'labels/training/label_02/0016', 'txt', 'KITTI_sequence')\n",
    "clean_images_labeled('kitti_sequential', 'images/training/image_02/0017', 'png', 'labels/training/label_02/0017', 'txt', 'KITTI_sequence')\n",
    "clean_images_labeled('kitti_sequential', 'images/training/image_02/0018', 'png', 'labels/training/label_02/0018', 'txt', 'KITTI_sequence')\n",
    "clean_images_labeled('kitti_sequential', 'images/training/image_02/0019', 'png', 'labels/training/label_02/0019', 'txt', 'KITTI_sequence')\n",
    "clean_images_labeled('kitti_sequential', 'images/training/image_02/0020', 'png', 'labels/training/label_02/0020', 'txt', 'KITTI_sequence')\n",
    "clean_images_labeled('kitti', 'images', 'png', 'labels', 'txt', 'KITTI')"
   ]
  },
  {
   "cell_type": "code",
   "execution_count": null,
   "metadata": {},
   "outputs": [],
   "source": [
    "clean_images_labeled('kitti', 'images', 'png', 'labels', 'txt', 'KITTI')"
   ]
  },
  {
   "cell_type": "markdown",
   "metadata": {},
   "source": [
    "# Analyze Entire Bucket (Deprecated)"
   ]
  },
  {
   "cell_type": "code",
   "execution_count": null,
   "metadata": {},
   "outputs": [],
   "source": [
    "#def clean_entire_bucket_videos():\n",
    "#    blobs = storage_client.list_blobs(location)\n",
    "#    for blob in blobs:\n",
    "#        clean_video(blob.name)"
   ]
  },
  {
   "cell_type": "markdown",
   "metadata": {
    "id": "V8Bqr3D6ERcw"
   },
   "source": [
    "# FastAPI Deployment"
   ]
  },
  {
   "cell_type": "code",
   "execution_count": null,
   "metadata": {
    "id": "wFehIelzjo0E"
   },
   "outputs": [],
   "source": [
    "app = FastAPI()\n",
    "\n",
    "#@app.on_event(\"startup\")\n",
    "#def start_wandb():\n",
    "#    init_wandb(location)\n",
    "#    return {'message': ('Weights and Balances Started as project: ' + wandb_project)}\n",
    "\n",
    "@app.get('/')\n",
    "def index():\n",
    "    return {'message': 'This is the homepage of the model, add \\'/docs\\' to the end of the URL to access FastAPI to make predictions with the model'}\n",
    "\n",
    "@app.get('/set_gcp_bucket')\n",
    "def set_gcp_bucket(string_input):\n",
    "    set_bucket(str(string_input))\n",
    "    return {'message': ('GCP Location Set to: ' + location)}\n",
    "\n",
    "@app.get('/clean_single_video_unlabelled')\n",
    "async def app_clean_unlabeled_video(video_name, bucket_location, extension, upload_frames):\n",
    "    clean_unlabeled_video(video_name, bucket_location, extension, upload_frames)\n",
    "    if upload_frames == True:\n",
    "        return {'message': (f'Video: {video_name}.{extension} cleaned and yaml and frames uploaded to gs://{location}/')}\n",
    "    else:\n",
    "        return {'message': (f'Video: {video_name}.{extension} cleaned and yaml uploaded as gs://{location}/{video_name}.yaml')}\n",
    "\n",
    "@app.get('/clean_folder_image_sequence')\n",
    "async def single_folder_imageseq(folder_name, extension, upload_frames):\n",
    "    clean_images(folder_name, extension, upload_frames)\n",
    "    return {'message': (f'Images in folder: {folder_name} cleaned and yaml uploaded to gs://{location}')}\n",
    "\n",
    "#@app.get('/clean_bucket_video')\n",
    "#async def full_clean_video():\n",
    "#    clean_entire_bucket_video()\n",
    "#    return {'message': ('Bucket: ' + location + ' cleaned and uploaded to gs://' + location)}"
   ]
  },
  {
   "cell_type": "markdown",
   "metadata": {
    "id": "4SAjBQPcFQlK"
   },
   "source": [
    "# Main Function"
   ]
  },
  {
   "cell_type": "code",
   "execution_count": null,
   "metadata": {
    "colab": {
     "base_uri": "https://localhost:8080/"
    },
    "id": "HhmlEVYQFQRk",
    "outputId": "0819598b-d56a-443b-e6ae-0e54f2133bc5"
   },
   "outputs": [],
   "source": [
    "nest_asyncio.apply()\n",
    "#wandb.login(relogin=True)\n",
    "uvicorn.run(app, host='0.0.0.0', port=8000)"
   ]
  }
 ],
 "metadata": {
  "accelerator": "GPU",
  "colab": {
   "collapsed_sections": [],
   "name": "Capstone.ipynb",
   "provenance": []
  },
  "environment": {
   "name": "tf2-gpu.2-6.m80",
   "type": "gcloud",
   "uri": "gcr.io/deeplearning-platform-release/tf2-gpu.2-6:m80"
  },
  "kernelspec": {
   "display_name": "Python 3",
   "language": "python",
   "name": "python3"
  },
  "language_info": {
   "codemirror_mode": {
    "name": "ipython",
    "version": 3
   },
   "file_extension": ".py",
   "mimetype": "text/x-python",
   "name": "python",
   "nbconvert_exporter": "python",
   "pygments_lexer": "ipython3",
   "version": "3.7.10"
  }
 },
 "nbformat": 4,
 "nbformat_minor": 4
}
